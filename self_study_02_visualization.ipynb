{
 "cells": [
  {
   "cell_type": "markdown",
   "id": "9276a3ac",
   "metadata": {
    "slideshow": {
     "slide_type": "slide"
    }
   },
   "source": [
    "# Visualization and Communication\n",
    "\n",
    "Zhentao Shi\n",
    "\n",
    "<!-- code is tested on SCRP -->"
   ]
  },
  {
   "cell_type": "markdown",
   "id": "16ba282c",
   "metadata": {
    "slideshow": {
     "slide_type": "slide"
    }
   },
   "source": [
    "## Plot()\n",
    "\n",
    "* `plot` is a generic command for graphs in `r-base`.\n",
    "  * For preliminary statistical graphs.\n",
    "\n",
    "* `matplot` for multiple objects"
   ]
  },
  {
   "cell_type": "code",
   "execution_count": null,
   "id": "abb9e210",
   "metadata": {
    "slideshow": {
     "slide_type": "subslide"
    },
    "vscode": {
     "languageId": "r"
    }
   },
   "outputs": [],
   "source": [
    "quantmod::getFX(\"USD/JPY\")\n",
    "quantmod::getFX(\"HKD/JPY\")\n",
    "matplot( y = cbind(USDJPY, HKDJPY*7.8), \n",
    "         x = zoo::index(USDJPY), \n",
    "         type = \"l\", xlab = \"time\"  )"
   ]
  },
  {
   "attachments": {},
   "cell_type": "markdown",
   "id": "a29247fa",
   "metadata": {
    "slideshow": {
     "slide_type": "slide"
    }
   },
   "source": [
    "## ggplot2\n",
    "\n",
    "\n",
    "* Many proposals to enhance `plot`\n",
    "* `ggplot2` is the most successful. \n",
    "\n",
    "* Advanced system for high-quality statistical graphs.\n"
   ]
  },
  {
   "cell_type": "markdown",
   "id": "24baf368",
   "metadata": {
    "slideshow": {
     "slide_type": "slide"
    }
   },
   "source": [
    "## Syntax\n",
    "\n",
    "* `ggplot()` specifies which dataset to use for the graph.\n",
    "* `geom_XXX()` determines the shape to draw,  \n",
    "  *  scatter dots\n",
    "  *  lines\n",
    "  *  curves or areas..."
   ]
  },
  {
   "cell_type": "code",
   "execution_count": null,
   "id": "1719cd83",
   "metadata": {
    "slideshow": {
     "slide_type": "slide"
    },
    "vscode": {
     "languageId": "r"
    }
   },
   "outputs": [],
   "source": [
    "library(tidyverse)\n",
    "d0 = read.csv(\"data_example/AJR.csv\", header = TRUE)\n",
    "\n",
    "# \"avexpr: average protection against expropriation risk\n",
    "# \"logpgp95\": logarithm of GDP per capita in 1995\n",
    "\n",
    "ggplot(data = d0) + geom_point(mapping = aes(x = avexpr, y = logpgp95))\n"
   ]
  },
  {
   "cell_type": "markdown",
   "id": "d7678c55",
   "metadata": {
    "slideshow": {
     "slide_type": "slide"
    }
   },
   "source": [
    "### Bank Marketing Data\n"
   ]
  },
  {
   "cell_type": "code",
   "execution_count": null,
   "id": "2bacc9e8",
   "metadata": {
    "slideshow": {
     "slide_type": "fragment"
    },
    "vscode": {
     "languageId": "r"
    }
   },
   "outputs": [],
   "source": [
    "bank_0 = read.csv(\"data_example/bank-full.csv\", header = TRUE, sep = \";\" )\n",
    "dim(bank_0)"
   ]
  },
  {
   "cell_type": "code",
   "execution_count": null,
   "id": "7ac09bfd",
   "metadata": {
    "slideshow": {
     "slide_type": "subslide"
    },
    "vscode": {
     "languageId": "r"
    }
   },
   "outputs": [],
   "source": [
    "# scatter plot\n",
    "p1 <- ggplot(data = bank_0) + geom_point(mapping = aes(x = age, y = balance)) \n",
    "# balance: average yearly balance, in euros (numeric) \n",
    "print(p1)"
   ]
  },
  {
   "cell_type": "code",
   "execution_count": null,
   "id": "ebb4aeac",
   "metadata": {
    "slideshow": {
     "slide_type": "subslide"
    },
    "vscode": {
     "languageId": "r"
    }
   },
   "outputs": [],
   "source": [
    "# scatter plot with groups\n",
    "p2 <- ggplot(data = bank_0) + geom_point(mapping = aes(x = age, y = balance, \n",
    "                                                       color = education, \n",
    "                                                       alpha = 0.5))\n",
    "print(p2)"
   ]
  },
  {
   "cell_type": "markdown",
   "id": "57846e23",
   "metadata": {
    "slideshow": {
     "slide_type": "slide"
    }
   },
   "source": [
    "### Subgraphs\n",
    "\n",
    "* Subgraphs convey rich information and easy comparison.\n",
    "* `ggplot2` is good at drawing multiple graphs, either of the same pattern or of\n",
    "different patterns. \n"
   ]
  },
  {
   "cell_type": "code",
   "execution_count": null,
   "id": "d74f4963",
   "metadata": {
    "slideshow": {
     "slide_type": "slide"
    },
    "vscode": {
     "languageId": "r"
    }
   },
   "outputs": [],
   "source": [
    "p3 <- p1 + facet_wrap( martial ~ education)\n",
    "print(p3)"
   ]
  },
  {
   "cell_type": "code",
   "execution_count": null,
   "id": "0e6f0061",
   "metadata": {
    "slideshow": {
     "slide_type": "subslide"
    },
    "vscode": {
     "languageId": "r"
    }
   },
   "outputs": [],
   "source": [
    "# educational levels in each ago\n",
    "ggplot(data = bank_0) + geom_bar(mapping = aes(x = age, fill = education))"
   ]
  },
  {
   "cell_type": "code",
   "execution_count": null,
   "id": "ad7133ba",
   "metadata": {
    "slideshow": {
     "slide_type": "subslide"
    },
    "vscode": {
     "languageId": "r"
    }
   },
   "outputs": [],
   "source": [
    "p4 <- ggplot(data = bank_0) + geom_bar(mapping = aes(x = age, fill = education), position = \"dodge\")\n",
    "print(p4)"
   ]
  },
  {
   "cell_type": "code",
   "execution_count": null,
   "id": "c64bdfe4",
   "metadata": {
    "slideshow": {
     "slide_type": "subslide"
    },
    "vscode": {
     "languageId": "r"
    }
   },
   "outputs": [],
   "source": [
    "p5 <- p4 + coord_flip()\n",
    "print(p5)"
   ]
  },
  {
   "cell_type": "markdown",
   "id": "9a479dd9",
   "metadata": {
    "slideshow": {
     "slide_type": "slide"
    }
   },
   "source": [
    "## Tidy data\n",
    "\n",
    "* ggplot adds elements in a graph one by one, and then print out the graph all together.\n",
    "\n",
    "* `ggplot2` accommodates data frames of a particular format. \n",
    "* `tidyr` is a package that helps prepare the data frames.\n"
   ]
  },
  {
   "cell_type": "markdown",
   "id": "05ea3fd2",
   "metadata": {
    "slideshow": {
     "slide_type": "slide"
    }
   },
   "source": [
    "* Example: [Penn World Table](https://www.rug.nl/ggdc/productivity/pwt/?lang=en)"
   ]
  },
  {
   "cell_type": "code",
   "execution_count": null,
   "id": "eb95c7ab",
   "metadata": {
    "slideshow": {
     "slide_type": "fragment"
    },
    "vscode": {
     "languageId": "r"
    }
   },
   "outputs": [],
   "source": [
    "d0 = readr::read_csv(\"data_example/PWT100.csv\", col_names = TRUE)\n",
    "head(d0)\n",
    "colnames(d0)"
   ]
  },
  {
   "cell_type": "code",
   "execution_count": null,
   "id": "6d61b655",
   "metadata": {
    "slideshow": {
     "slide_type": "slide"
    },
    "vscode": {
     "languageId": "r"
    }
   },
   "outputs": [],
   "source": [
    "# work with a smaller dataset\n",
    "\n",
    "d1 <- select(d0, countrycode, year, rgdpe, pop) %>%\n",
    "  filter(countrycode %in% c(\"CHN\", \"RUS\", \"JPN\", \"USA\")) %>%\n",
    "  mutate(gdpcapita = rgdpe/pop) \n",
    "\n",
    "# rgdpe: Expenditure-side real GDP at chained PPPs, \n",
    "#        to compare relative living standards across countries and over time\n",
    "\n",
    "print(d1)  "
   ]
  },
  {
   "cell_type": "code",
   "execution_count": null,
   "id": "cc57e142",
   "metadata": {
    "slideshow": {
     "slide_type": "slide"
    },
    "vscode": {
     "languageId": "r"
    }
   },
   "outputs": [],
   "source": [
    "ggplot(d1) + \n",
    "  geom_point(mapping = aes(x = year, y = rgdpe, color = countrycode))"
   ]
  },
  {
   "cell_type": "code",
   "execution_count": null,
   "id": "6272837a",
   "metadata": {
    "slideshow": {
     "slide_type": "slide"
    },
    "vscode": {
     "languageId": "r"
    }
   },
   "outputs": [],
   "source": [
    "ggplot(d1) + \n",
    "  geom_line(mapping = aes(x = year, y = gdpcapita, color = countrycode))"
   ]
  },
  {
   "cell_type": "code",
   "execution_count": null,
   "id": "1a98f9d9",
   "metadata": {
    "slideshow": {
     "slide_type": "slide"
    },
    "vscode": {
     "languageId": "r"
    }
   },
   "outputs": [],
   "source": [
    "s1 <- d1 %>% \n",
    "  select( countrycode, year, pop) %>%\n",
    "  spread( key = year, value = pop)\n",
    "print(s1)\n"
   ]
  },
  {
   "cell_type": "code",
   "execution_count": null,
   "id": "674e74d8",
   "metadata": {
    "slideshow": {
     "slide_type": "slide"
    },
    "vscode": {
     "languageId": "r"
    }
   },
   "outputs": [],
   "source": [
    "gather(s1, '1950':'2019', key = \"year\", value = \"pop\")"
   ]
  },
  {
   "cell_type": "markdown",
   "id": "20a46e2a",
   "metadata": {
    "slideshow": {
     "slide_type": "slide"
    }
   },
   "source": [
    "### Subgraphs of the same pattern\n",
    "\n",
    "\n",
    "* Example: Plot the density of two estimators under three different data generating processes.\n",
    "\n"
   ]
  },
  {
   "cell_type": "code",
   "execution_count": null,
   "id": "2b60cd87",
   "metadata": {
    "slideshow": {
     "slide_type": "slide"
    },
    "vscode": {
     "languageId": "r"
    }
   },
   "outputs": [],
   "source": [
    "load(\"data_example/big150.Rdata\")\n",
    "head(big150)"
   ]
  },
  {
   "cell_type": "code",
   "execution_count": null,
   "id": "705a0b80",
   "metadata": {
    "vscode": {
     "languageId": "r"
    }
   },
   "outputs": [],
   "source": [
    "\n",
    "big150_1 <- select(big150, typb, b1, b1_c) %>%\n",
    "            gather(\"b1\", \"b1_c\", key = \"estimator\", value = \"value\")\n",
    "print(head(big150_1))\n"
   ]
  },
  {
   "cell_type": "markdown",
   "id": "3b315bdb",
   "metadata": {
    "slideshow": {
     "slide_type": "slide"
    },
    "vscode": {
     "languageId": "r"
    }
   },
   "source": [
    "`theme` is to tune the supplementary elements like the background, the size and font of the axis text and so on."
   ]
  },
  {
   "cell_type": "code",
   "execution_count": null,
   "id": "f9347693",
   "metadata": {
    "slideshow": {
     "slide_type": "fragment"
    },
    "vscode": {
     "languageId": "r"
    }
   },
   "outputs": [],
   "source": [
    "\n",
    "p1 <- ggplot(big150_1)\n",
    "p1 <- p1 + geom_area(\n",
    "  stat = \"density\", alpha = .25,\n",
    "  aes(x = value, fill = estimator), position = \"identity\"\n",
    ")\n",
    "p1 <- p1 + facet_grid(. ~ typb)\n",
    "p1 <- p1 + geom_vline(xintercept = 0)\n",
    "p1 <- p1 + theme_bw()\n",
    "p1 <- p1 + theme(\n",
    "  strip.text = element_text(size = 12),\n",
    "  axis.text = element_text(size = 12)\n",
    ")\n",
    "print(p1)"
   ]
  },
  {
   "cell_type": "markdown",
   "id": "483a1dea",
   "metadata": {
    "slideshow": {
     "slide_type": "slide"
    }
   },
   "source": [
    "### Example\n",
    "\n",
    "* This example aligns two graphs of different patterns in one page.\n",
    "  * Similar graphs appear in [Shi and Zheng, 2018](https://onlinelibrary.wiley.com/doi/abs/10.1002/jae.2640).\n",
    "  * To unify the theme of the two subgraphs,\n",
    "define an object `theme1` and apply it in both graphic objects\n",
    "`p1` and `p2`.\n",
    "\n"
   ]
  },
  {
   "cell_type": "code",
   "execution_count": null,
   "id": "0ee3941a",
   "metadata": {
    "slideshow": {
     "slide_type": "slide"
    },
    "vscode": {
     "languageId": "r"
    }
   },
   "outputs": [],
   "source": [
    "# graph packages\n",
    "library(lattice)\n",
    "library(ggplot2)\n",
    "library(gridExtra)\n",
    "\n",
    "load(\"data_example/multigraph.Rdata\") # load data\n",
    "\n",
    "# unify the theme in the two graphs\n",
    "theme1 <- theme_bw() + theme(\n",
    "  axis.title.x = element_blank(),\n",
    "  strip.text = element_text(size = 12),\n",
    "  axis.text = element_text(size = 12),\n",
    "  legend.position = \"bottom\", legend.title = element_blank()\n",
    ")"
   ]
  },
  {
   "cell_type": "code",
   "execution_count": null,
   "id": "1a2528b3",
   "metadata": {
    "slideshow": {
     "slide_type": "subslide"
    },
    "vscode": {
     "languageId": "r"
    }
   },
   "outputs": [],
   "source": [
    "# sub-graph 1\n",
    "d1 <- data.frame(month = 1:480, m = m_vec)\n",
    "p1 <- qplot(x = month, y = m, data = d1, geom = \"line\")\n",
    "p1 <- p1 + theme1 + ylab(\"fraction of chartists\")\n",
    "\n",
    "# sug-graph 2\n",
    "d2$month <- 1:480\n",
    "p2 <- ggplot(d2) + geom_line(aes(x = month, y = value, col = variable))\n",
    "p2 <- p2 + theme1 + ylab(\"price and fundamental\")\n",
    "\n",
    "# generate the grahp\n",
    "grid.arrange(p1, p2, nrow = 2)"
   ]
  },
  {
   "cell_type": "markdown",
   "id": "0eedf312",
   "metadata": {
    "slideshow": {
     "slide_type": "skip"
    }
   },
   "source": [
    "## Interactive Graph\n",
    "\n",
    "* Users provides customized inputs\n",
    "* Graph presents corresponding outcome\n",
    "\n",
    "* `flexboard.Rmd` is an example.\n",
    "* Easy to convert a ggplot2 graph with `plotly::ggplotly()`.\n",
    "\n"
   ]
  },
  {
   "cell_type": "markdown",
   "id": "20fd422a",
   "metadata": {
    "slideshow": {
     "slide_type": "slide"
    }
   },
   "source": [
    "## R Markdown\n",
    "\n",
    "* Provide R-basics from previous version of rmd file."
   ]
  },
  {
   "cell_type": "markdown",
   "id": "39fd267d",
   "metadata": {
    "slideshow": {
     "slide_type": "subslide"
    }
   },
   "source": [
    "Notebooks\n",
    "\n",
    "* Rmd format\n",
    "* Ipynb format"
   ]
  },
  {
   "cell_type": "markdown",
   "id": "15f1c9bf",
   "metadata": {
    "slideshow": {
     "slide_type": "slide"
    }
   },
   "source": [
    "## Shiny App\n",
    "\n",
    "Web-based R package for interactive graph. \n",
    "\n",
    "\n",
    "* [tutorial](https://shiny.rstudio.com/tutorial/)\n",
    "\n",
    "\n",
    "* `UI`: interface\n",
    "* `Server`: calculation of input data\n"
   ]
  },
  {
   "attachments": {},
   "cell_type": "markdown",
   "id": "b8fe4134",
   "metadata": {
    "slideshow": {
     "slide_type": "slide"
    }
   },
   "source": [
    "### Example\n",
    "\n",
    "\n",
    "* [Shenzhen housing price](https://zhentao-shi.shinyapps.io/ShenzhenHousing-Shiny/)\n",
    "  * [code](https://github.com/metricshilab/Shenzhen-Housing)\n",
    "* [HP filter](https://zwmei-metrics.shinyapps.io/boosted_hp_app/)\n",
    "  * [code](https://github.com/metricshilab/Boosted_HP_App)"
   ]
  },
  {
   "cell_type": "markdown",
   "id": "6d0254ee",
   "metadata": {
    "slideshow": {
     "slide_type": "notes"
    }
   },
   "source": []
  }
 ],
 "metadata": {
  "celltoolbar": "Slideshow",
  "kernelspec": {
   "display_name": "R",
   "language": "R",
   "name": "ir"
  },
  "language_info": {
   "codemirror_mode": "r",
   "file_extension": ".r",
   "mimetype": "text/x-r-source",
   "name": "R",
   "pygments_lexer": "r",
   "version": "4.2.2"
  },
  "rise": {
   "enable_chalkboard": true,
   "scroll": true,
   "theme": "serif"
  }
 },
 "nbformat": 4,
 "nbformat_minor": 5
}
