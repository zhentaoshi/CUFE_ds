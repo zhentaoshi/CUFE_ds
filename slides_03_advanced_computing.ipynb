{
 "cells": [
  {
   "attachments": {},
   "cell_type": "markdown",
   "id": "89624571",
   "metadata": {
    "slideshow": {
     "slide_type": "slide"
    }
   },
   "source": [
    "# Advanced Computing\n",
    "\n",
    "Zhentao Shi\n",
    "\n",
    "<!-- code is tested on SCRP -->"
   ]
  },
  {
   "attachments": {},
   "cell_type": "markdown",
   "id": "4b37e255",
   "metadata": {
    "slideshow": {
     "slide_type": "slide"
    }
   },
   "source": [
    "## Speed\n",
    "\n",
    "* Efficient computation in R.\n",
    "\n",
    "* R is a vector-oriented language. \n",
    "  * In most cases, vectorization speeds up computation.\n",
    "* Multiple CPUs for parallel execution\n",
    "  * Save time after optimizing the code for speed.\n"
   ]
  },
  {
   "attachments": {},
   "cell_type": "markdown",
   "id": "cd4f4d14",
   "metadata": {
    "slideshow": {
     "slide_type": "slide"
    }
   },
   "source": [
    "## Vectorization\n",
    "\n",
    "* Mathematical equivalence $\\neq$ computation equivalence\n",
    "\n",
    "* Speed matter in\n",
    "  * Structural estimation\n",
    "  * Big data\n",
    "  * Simulations\n",
    "  * Hyper parameter tuning\n"
   ]
  },
  {
   "attachments": {},
   "cell_type": "markdown",
   "id": "447ac1eb",
   "metadata": {
    "slideshow": {
     "slide_type": "subslide"
    }
   },
   "source": [
    "* For example, @lin2020's preferred algorithm \n",
    "  * 8 hours on a 24-core = 192 core hours\n",
    "\n",
    "* Code optimization is essential for such problems.\n",
    "\n",
    "* Optimizing code takes human time.\n",
    "\n",
    "* Tradeoff between human time and computer time."
   ]
  },
  {
   "attachments": {},
   "cell_type": "markdown",
   "id": "283c9ba9",
   "metadata": {
    "slideshow": {
     "slide_type": "slide"
    }
   },
   "source": [
    "### Econometrics Example\n",
    "\n",
    "In OLS regression, under heteroskedasticity we want to estimate \n",
    "\n",
    "$$\n",
    "\\underset{\\mathrm{opt1}}{\\frac{1}{n}\\sum_{i=1}^{n}x_{i}x_{i}'\\widehat{e}_{i}^{2}}=\\underset{\\mathrm{opt2,3}}{\\frac{1}{n}X'DX}=\\underset{\\mathrm{opt 4}}{\\frac{1}{n}\\left(X'D^{1/2}\\right)\\left(D^{1/2}X\\right)}\n",
    "$$\n",
    "\n",
    "where $D$ is a diagonal matrix of $\\left(\\widehat{e}_{1}^{2},\\widehat{e}_{2,}^{2},\\ldots,\\widehat{e}_{n}^{2}\\right)$."
   ]
  },
  {
   "attachments": {},
   "cell_type": "markdown",
   "id": "8864161f",
   "metadata": {
    "slideshow": {
     "slide_type": "slide"
    }
   },
   "source": [
    "At least 4 mathematically equivalent ways:\n",
    "\n",
    "1. literally sum $\\hat{e}_i^2 x_i x_i'$  over $i=1,\\ldots,n$ one by one.\n",
    "2. $X' \\mathrm{diag}(\\hat{e}^2) X$, with a dense central matrix.\n",
    "3. $X' \\mathrm{diag}(\\hat{e}^2) X$, with a sparse central matrix.\n",
    "4. Do cross product to `X*e_hat`. It takes advantage of the element-by-element operation in R.\n"
   ]
  },
  {
   "cell_type": "code",
   "execution_count": null,
   "id": "3575646c",
   "metadata": {
    "slideshow": {
     "slide_type": "slide"
    },
    "vscode": {
     "languageId": "r"
    }
   },
   "outputs": [],
   "source": [
    "# an example of robust variance matrix.\n",
    "# compare the implementation via matrix, Matrix (package) and vectorization.\n",
    "\n",
    "# n = 5000; Rep = 10; # Matrix is quick, matrix is slow, adding is OK\n",
    "\n",
    "source(\"data_example/lec2.R\")\n",
    "\n",
    "n <- 50\n",
    "Rep <- 1000 \n",
    "\n",
    "data.Xe <- lpm(n) # see the function in \"data_example/lec2.R\"\n",
    "X <- data.Xe$X\n",
    "e_hat <- data.Xe$e_hat\n",
    "\n",
    "XXe2 <- matrix(0, nrow = 2, ncol = 2)"
   ]
  },
  {
   "attachments": {},
   "cell_type": "markdown",
   "id": "58848e36",
   "metadata": {
    "slideshow": {
     "slide_type": "slide"
    }
   },
   "source": [
    "We run the 4 estimators for the same data, and compare the time."
   ]
  },
  {
   "cell_type": "code",
   "execution_count": null,
   "id": "125391cc",
   "metadata": {
    "slideshow": {
     "slide_type": "fragment"
    },
    "vscode": {
     "languageId": "r"
    }
   },
   "outputs": [],
   "source": [
    "for (opt in 1:4) {\n",
    "  pts0 <- Sys.time()\n",
    "  for (iter in 1:Rep) {\n",
    "    set.seed(iter) # to make sure that the data used\n",
    "    # different estimation methods are the same\n",
    "    if (opt == 1) {\n",
    "      for (i in 1:n) {  XXe2 <- XXe2 + e_hat[i]^2 * X[i, ] %*% t(X[i, ])  }\n",
    "    } else if (opt == 2) { # the vectorized version with dense matrix\n",
    "      e_hat2_M <- matrix(0, nrow = n, ncol = n)\n",
    "      diag(e_hat2_M) <- e_hat^2; XXe2 <- t(X) %*% e_hat2_M %*% X\n",
    "    } else if (opt == 3) { # the vectorized version with sparse matrix\n",
    "      e_hat2_M <- Matrix::Matrix(0, ncol = n, nrow = n)\n",
    "      diag(e_hat2_M) <- e_hat^2; XXe2 <- t(X) %*% e_hat2_M %*% X\n",
    "    } else if (opt == 4) { # the best vectorization method. No waste\n",
    "      Xe <- X * e_hat\n",
    "      XXe2 <- t(Xe) %*% Xe }\n",
    "    XX_inv <- solve(t(X) %*% X)\n",
    "    sig_B <- XX_inv %*% XXe2 %*% XX_inv\n",
    "  }\n",
    "  cat(\"n =\", n, \", Rep =\", Rep, \", opt =\", opt, \", time =\", Sys.time() - pts0, \"\\n\")\n",
    "}"
   ]
  },
  {
   "attachments": {},
   "cell_type": "markdown",
   "id": "51e4d95b",
   "metadata": {
    "slideshow": {
     "slide_type": "slide"
    }
   },
   "source": [
    "* When $n$ is small\n",
    "  * `matrix` is fast\n",
    "  * `Matrix` is slow\n",
    "  * Vectorized version is the fastest.\n",
    "\n",
    "* When $n$ is big\n",
    "  * `matrix` is slow\n",
    "  * `Matrix` is fast\n",
    "  * Vectorized version is still the fastest."
   ]
  },
  {
   "cell_type": "code",
   "execution_count": null,
   "id": "909e3b84",
   "metadata": {
    "slideshow": {
     "slide_type": "subslide"
    },
    "vscode": {
     "languageId": "r"
    }
   },
   "outputs": [],
   "source": [
    "for (opt in c(1,3,4)){ # option 2 takes too much time. We omit it.\n",
    "  pts0 = Sys.time()\n",
    "  XXe2 = matrix(0, nrow = K, ncol = K)\n",
    "  if (opt == 1){\n",
    "    for ( i in 1:n){\n",
    "      XXe2 = XXe2 + e_hat[i]^2 * X[i,] %*% t(X[i,])\n",
    "    }\n",
    "  } else if (opt == 2) {# the vectorized version\n",
    "    e_hat2_M = matrix(0, nrow = n, ncol = n)\n",
    "    diag(e_hat2_M) = e_hat^2\n",
    "    XXe2 = t(X) %*% e_hat2_M %*% X\n",
    "  } else if (opt == 3)  {# the vectorized version\n",
    "    e_hat2_M = Matrix::Matrix( 0, ncol = n, nrow = n)\n",
    "    diag(e_hat2_M) = e_hat^2\n",
    "    XXe2 = t(X) %*% e_hat2_M %*% X\n",
    "  } else if (opt == 4)  {# the best vectorization method. No waste\n",
    "    Xe = X * e_hat\n",
    "    XXe2 = t(Xe) %*% Xe\n",
    "  }\n",
    "  cat(\"outcome = \", as.vector(XXe2), \", opt = \", opt, \", time = \", Sys.time() - pts0, \"\\n\")\n",
    "}"
   ]
  },
  {
   "attachments": {},
   "cell_type": "markdown",
   "id": "ba16a2cf",
   "metadata": {
    "slideshow": {
     "slide_type": "slide"
    }
   },
   "source": [
    "## Efficient Loop\n",
    "\n",
    "* R evolves for big data\n",
    "* housekeeping is needed in `for` loops\n",
    "* `plyr` simplifies the job and facilitates parallelization.\n"
   ]
  },
  {
   "attachments": {},
   "cell_type": "markdown",
   "id": "77fcf4fc",
   "metadata": {
    "slideshow": {
     "slide_type": "slide"
    }
   },
   "source": [
    "\n",
    "### Example\n",
    "\n",
    "* Empirical coverage probability of a Poisson distribution\n",
    "* Write a DIY `CI` for confidence interval\n",
    "\n",
    "This is a standard `for` loop.\n"
   ]
  },
  {
   "cell_type": "code",
   "execution_count": null,
   "id": "fd23d829",
   "metadata": {
    "slideshow": {
     "slide_type": "slide"
    },
    "vscode": {
     "languageId": "r"
    }
   },
   "outputs": [],
   "source": [
    "Rep <- 100000\n",
    "sample_size <- 1000\n",
    "mu <- 2"
   ]
  },
  {
   "cell_type": "code",
   "execution_count": null,
   "id": "aec38c8c",
   "metadata": {
    "slideshow": {
     "slide_type": "fragment"
    },
    "vscode": {
     "languageId": "r"
    }
   },
   "outputs": [],
   "source": [
    "source(\"data_example/lec2.R\")\n",
    "# append a new outcome after each loop\n",
    "pts0 <- Sys.time() # check time\n",
    "for (i in 1:Rep) {\n",
    "  x <- rpois(sample_size, mu)\n",
    "  bounds <- CI(x)\n",
    "  out_i <- ((bounds$lower <= mu) & (mu <= bounds$upper))\n",
    "  if (i == 1) {\n",
    "    out <- out_i\n",
    "  } else {\n",
    "    out <- c(out, out_i)\n",
    "  }\n",
    "}\n",
    "\n",
    "pts1 <- Sys.time() - pts0 # check time elapse\n",
    "cat(\"loop without pre-definition takes\", pts1, \"seconds\\n\")"
   ]
  },
  {
   "cell_type": "code",
   "execution_count": null,
   "id": "889d202e",
   "metadata": {
    "slideshow": {
     "slide_type": "subslide"
    },
    "vscode": {
     "languageId": "r"
    }
   },
   "outputs": [],
   "source": [
    "# pre-define a container\n",
    "out <- rep(0, Rep)\n",
    "pts0 <- Sys.time() # check time\n",
    "for (i in 1:Rep) {\n",
    "  x <- rpois(sample_size, mu)\n",
    "  bounds <- CI(x)\n",
    "  out[i] <- ((bounds$lower <= mu) & (mu <= bounds$upper))\n",
    "}\n",
    "\n",
    "pts1 <- Sys.time() - pts0 # check time elapse\n",
    "cat(\"loop with pre-definition takes\", pts1, \"seconds\\n\")"
   ]
  },
  {
   "attachments": {},
   "cell_type": "markdown",
   "id": "e9801994",
   "metadata": {
    "slideshow": {
     "slide_type": "fragment"
    }
   },
   "source": [
    "* Pay attention to the line `out = rep(0, Rep)`. \n",
    "* Memoery operates differently with or without the container"
   ]
  },
  {
   "attachments": {},
   "cell_type": "markdown",
   "id": "62f31411",
   "metadata": {
    "slideshow": {
     "slide_type": "slide"
    }
   },
   "source": [
    "## Parallel Computing\n",
    "\n",
    "* Parallel computing becomes essential when the data size is beyond the storage of a single computer\n",
    "\n",
    "\n",
    "* Coordinate multiple cores on a single computer\n",
    "* The packages `foreach` and `doParallel` are useful for parallel computing.\n",
    "* `registerDoParallel(number)` prepares a few CPU cores to accept incoming jobs."
   ]
  },
  {
   "cell_type": "code",
   "execution_count": null,
   "id": "b06029cf",
   "metadata": {
    "slideshow": {
     "slide_type": "slide"
    },
    "vscode": {
     "languageId": "r"
    }
   },
   "outputs": [],
   "source": [
    "library(plyr)\n",
    "library(foreach) \n",
    "library(doParallel)"
   ]
  },
  {
   "attachments": {},
   "cell_type": "markdown",
   "id": "b8ff15f5",
   "metadata": {
    "slideshow": {
     "slide_type": "slide"
    },
    "vscode": {
     "languageId": "r"
    }
   },
   "source": [
    "```\n",
    "registerDoParallel(a_number) # opens specified number of CPUs\n",
    "\n",
    "out <- foreach(icount(Rep), .combine = option) %dopar% {\n",
    "  my_expressions\n",
    "}\n",
    "```"
   ]
  },
  {
   "attachments": {},
   "cell_type": "markdown",
   "id": "ee65c44a",
   "metadata": {
    "slideshow": {
     "slide_type": "slide"
    }
   },
   "source": [
    "\n",
    "\n",
    "### Example\n",
    "\n",
    "* Two CPUs running simultaneously, in theory cut the time to a half of that on a single CPU\n",
    "\n",
    "* Compare the speed of a parallel loop and a single-core sequential loop."
   ]
  },
  {
   "cell_type": "code",
   "execution_count": 1,
   "id": "b0b8f380",
   "metadata": {
    "slideshow": {
     "slide_type": "slide"
    },
    "vscode": {
     "languageId": "r"
    }
   },
   "outputs": [
    {
     "ename": "ERROR",
     "evalue": "Error in registerDoParallel(2): could not find function \"registerDoParallel\"\n",
     "output_type": "error",
     "traceback": [
      "Error in registerDoParallel(2): could not find function \"registerDoParallel\"\nTraceback:\n"
     ]
    }
   ],
   "source": [
    "capture <- function(i) {\n",
    "  x <- rpois(sample_size, mu)\n",
    "  bounds <- CI(x)\n",
    "  return((bounds$lower <= mu) & (mu <= bounds$upper))\n",
    "}\n",
    "\n",
    "\n",
    "registerDoParallel(2) # open 2 CPUs\n",
    "\n",
    "pts0 <- Sys.time() # check time\n",
    "\n",
    "out <- foreach(icount(Rep), .combine = c) %dopar% {\n",
    "  capture()\n",
    "}\n",
    "\n",
    "pts1 <- Sys.time() - pts0 # check time elapse\n",
    "cat(\"parallel loop takes\", pts1, \"seconds\\n\")\n"
   ]
  },
  {
   "attachments": {},
   "cell_type": "markdown",
   "id": "05a27982",
   "metadata": {
    "slideshow": {
     "slide_type": "fragment"
    }
   },
   "source": [
    "* Surprisingly, parallel computing runs more slowly\n",
    "  * Each loop can be done in very short time."
   ]
  },
  {
   "attachments": {},
   "cell_type": "markdown",
   "id": "54338eaa",
   "metadata": {
    "slideshow": {
     "slide_type": "slide"
    }
   },
   "source": [
    "* code chunk below will tell a different story.\n",
    "  * Time in each loop is non-trivial\n",
    "  * The only difference is `%dopar%` vs. `%do%`."
   ]
  },
  {
   "cell_type": "code",
   "execution_count": null,
   "id": "83a185b2",
   "metadata": {
    "slideshow": {
     "slide_type": "slide"
    },
    "vscode": {
     "languageId": "r"
    }
   },
   "outputs": [],
   "source": [
    "Rep <- 200\n",
    "sample_size <- 2000000\n",
    "\n",
    "registerDoParallel(2) # change the number of open CPUs according to\n",
    "# the specification of your computer\n",
    "\n",
    "pts0 <- Sys.time() # check time\n",
    "out <- foreach(icount(Rep), .combine = c) %dopar% {\n",
    "  capture()\n",
    "}\n",
    "\n",
    "cat(\"2-core parallel loop takes\", Sys.time() - pts0 , \"seconds\\n\")\n",
    "\n",
    "pts0 <- Sys.time()\n",
    "out <- foreach(icount(Rep), .combine = c) %do% {\n",
    "  capture()\n",
    "}\n",
    "\n",
    "cat(\"single-core loop takes\", Sys.time() - pts0 , \"seconds\\n\")"
   ]
  },
  {
   "attachments": {},
   "cell_type": "markdown",
   "id": "b5ce40ca",
   "metadata": {
    "slideshow": {
     "slide_type": "slide"
    }
   },
   "source": [
    "## Summary\n",
    "\n",
    "* Speed matters\n",
    "* Vectorization\n",
    "* Parellel computing\n",
    "* Experiments"
   ]
  }
 ],
 "metadata": {
  "celltoolbar": "Slideshow",
  "kernelspec": {
   "display_name": "R",
   "language": "R",
   "name": "ir"
  },
  "language_info": {
   "codemirror_mode": "r",
   "file_extension": ".r",
   "mimetype": "text/x-r-source",
   "name": "R",
   "pygments_lexer": "r",
   "version": "4.2.2"
  },
  "rise": {
   "enable_chalkboard": true,
   "scroll": true,
   "theme": "serif"
  }
 },
 "nbformat": 4,
 "nbformat_minor": 5
}
