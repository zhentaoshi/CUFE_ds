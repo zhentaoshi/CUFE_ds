{
 "cells": [
  {
   "cell_type": "markdown",
   "metadata": {
    "slideshow": {
     "slide_type": "slide"
    }
   },
   "source": [
    "# Economic Data Science\n",
    "\n",
    "@ Central University of Finance and Economics"
   ]
  },
  {
   "cell_type": "markdown",
   "metadata": {
    "slideshow": {
     "slide_type": "-"
    }
   },
   "source": [
    "\n",
    "**Zhentao Shi**\n",
    "\n",
    "Department of Economics\n",
    "\n",
    "The Chinese University of Hong Kong"
   ]
  },
  {
   "cell_type": "markdown",
   "metadata": {
    "slideshow": {
     "slide_type": "slide"
    }
   },
   "source": [
    "### Why data\n",
    "\n",
    "* Scientific research. e.g. Physics.\n",
    "  * Theory and experimental evidence."
   ]
  },
  {
   "cell_type": "markdown",
   "metadata": {
    "slideshow": {
     "slide_type": "fragment"
    }
   },
   "source": [
    "* Economics research.\n",
    "  * Modeling causality\n",
    "  * Experimental causality"
   ]
  },
  {
   "cell_type": "markdown",
   "metadata": {
    "slideshow": {
     "slide_type": "subslide"
    }
   },
   "source": [
    "* Business analytics\n",
    "  * Descriptive statistics\n",
    "  * Prediction\n",
    "  * Inference"
   ]
  },
  {
   "cell_type": "markdown",
   "metadata": {
    "slideshow": {
     "slide_type": "slide"
    }
   },
   "source": [
    "## Programming\n",
    "\n",
    "* Essential skill\n",
    "* Low-level languages: C, Fortran, ...\n",
    "* High-level languages: Python, R, Matlab, Stata, ..."
   ]
  },
  {
   "cell_type": "markdown",
   "metadata": {
    "slideshow": {
     "slide_type": "fragment"
    }
   },
   "source": [
    "* R is used for demonstration\n",
    "* You choose your languages"
   ]
  },
  {
   "attachments": {},
   "cell_type": "markdown",
   "metadata": {},
   "source": [
    "## Data Sources\n",
    "\n",
    "\n",
    "* Online archives\n",
    "* API (Application Programming Interface)\n",
    "* Proprietary data\n",
    "* Survey data"
   ]
  },
  {
   "cell_type": "markdown",
   "metadata": {},
   "source": [
    "## Public data\n",
    "\n",
    "* Time Series\n",
    "  - Natural ordering of observations\n",
    "  - A single realization in history\n",
    "  - eg. GDP, stock prices\n",
    "\n",
    "* Microeconomic data\n",
    "  - No natural ordering\n",
    "  - Collected at the same time, or time does not matter"
   ]
  },
  {
   "cell_type": "markdown",
   "metadata": {},
   "source": [
    "* Aggregate panel data\n",
    "  - [Penn World Table](https://www.rug.nl/ggdc/productivity/pwt/?lang=en)\n",
    "  - [Atlas Trade Data](https://atlas.cid.harvard.edu/about-data)\n",
    "  - [IMF databases](https://data.imf.org/?sk=388DFA60-1D26-4ADE-B505-A05A558D9A42&sId=1479329132316)"
   ]
  },
  {
   "cell_type": "markdown",
   "metadata": {},
   "source": [
    "## Gated Data\n",
    "\n",
    "* Applications needed\n",
    "  * Chinese Longitudinal Healthy Longevity Survey [link](https://www.icpsr.umich.edu/web/NACDA/studies/36692)\n",
    "  * China Household Finance Survey [link](https://chfs.swufe.edu.cn/)\n"
   ]
  },
  {
   "cell_type": "code",
   "execution_count": null,
   "metadata": {
    "vscode": {
     "languageId": "r"
    }
   },
   "outputs": [],
   "source": [
    "library(magrittr)\n",
    "library(dplyr)\n",
    "library(zoo)\n",
    "library(rvest)\n",
    "library(Quandl)\n"
   ]
  },
  {
   "cell_type": "markdown",
   "metadata": {},
   "source": [
    "## Time Series\n",
    "\n",
    "- Macroeconomics\n",
    "  - 国家统计局 [National Bureau of Statistics](https://data.stats.gov.cn/easyquery.htm?cn=B01)\n",
    "  - Federal Reserve [FRED database](https://research.stlouisfed.org/econ/mccracken/fred-databases/)\n",
    "- Financial\n",
    "  - [Yahoo Finance](https://finance.yahoo.com/)"
   ]
  },
  {
   "cell_type": "markdown",
   "metadata": {},
   "source": [
    "## HK GDP\n",
    "\n",
    "* [Census and Statistics Department](https://www.censtatd.gov.hk/en/web_table.html?id=33#)\n",
    "  * Webpage With API"
   ]
  },
  {
   "cell_type": "code",
   "execution_count": null,
   "metadata": {
    "vscode": {
     "languageId": "r"
    }
   },
   "outputs": [],
   "source": [
    "library(httr)\n",
    "library(jsonlite)\n",
    "library(rjson)\n",
    "\n",
    "url <- \"https://www.censtatd.gov.hk/api/get.php?id=310-31003&lang=en&param=N4KABGBEDGBukC4yghSBxAIgBQPoGEB5AWW0IDkBRcgFUTAG1xU1j0BlSAGmZcgA0O3Xqkj4AkgDVhLNFgBi+eTNkZ8lFX2zrNozJl1p5BnrKjFOp1W0NR+lkWkGQRAXWYBfK5ADO8JCiiROT0TGaQAEoAhgDuuMS4ABYA1gAmuKm2kACaAPbZuACMqQAOuACkuD4uLO4QXsyQJQCmAE4AlrmZASK+AC5RrX30kABMAAyjheOFNWANaO3dUADM0wC0a+PjKyqQADZRAHYA5iPNRy4eQA\"\n",
    "download.file(url, destfile=\"input.json\")\n",
    "result <- jsonlite::fromJSON(\"input.json\")"
   ]
  },
  {
   "cell_type": "code",
   "execution_count": null,
   "metadata": {
    "vscode": {
     "languageId": "r"
    }
   },
   "outputs": [],
   "source": [
    "data.frame(result$dataSet) "
   ]
  },
  {
   "cell_type": "markdown",
   "metadata": {},
   "source": [
    "## Federal Reserve\n",
    "\n",
    "* China GDP [[link](https://fred.stlouisfed.org/series/MKTGDPCNA646NWDB)]"
   ]
  },
  {
   "cell_type": "code",
   "execution_count": null,
   "metadata": {
    "vscode": {
     "languageId": "r"
    }
   },
   "outputs": [],
   "source": [
    "quantmod::getSymbols.FRED(Symbols = \"MKTGDPCNA646NWDB\", env = .GlobalEnv) \n",
    "plot(MKTGDPCNA646NWDB)"
   ]
  },
  {
   "cell_type": "markdown",
   "metadata": {},
   "source": [
    "\n",
    "Another example: [Quarterly US Industrial Production Index](https://fred.stlouisfed.org/series/IPB50001SQ)\n"
   ]
  },
  {
   "cell_type": "code",
   "execution_count": null,
   "metadata": {
    "vscode": {
     "languageId": "r"
    }
   },
   "outputs": [],
   "source": [
    "quantmod::getSymbols.FRED(Symbols = c(\"IPB50001SQ\"), env = .GlobalEnv)\n",
    "plot(IPB50001SQ)"
   ]
  },
  {
   "cell_type": "markdown",
   "metadata": {},
   "source": [
    "## Finance Data\n",
    "\n",
    "\n",
    "* [Yahoo Finance](https://finance.yahoo.com/)\n",
    "\n",
    "* Tick `AAPL` for *Apple Inc.* \n",
    "  * Package `quantmod`"
   ]
  },
  {
   "cell_type": "code",
   "execution_count": null,
   "metadata": {
    "vscode": {
     "languageId": "r"
    }
   },
   "outputs": [],
   "source": [
    "quantmod::getSymbols(\"AAPL\", src = \"yahoo\")\n",
    "tail(AAPL)\n",
    "plot(AAPL$AAPL.Close)"
   ]
  },
  {
   "cell_type": "markdown",
   "metadata": {},
   "source": [
    "### Shanghai Composite Index"
   ]
  },
  {
   "cell_type": "code",
   "execution_count": null,
   "metadata": {
    "vscode": {
     "languageId": "r"
    }
   },
   "outputs": [],
   "source": [
    "tick = \"000001.SS\" # need to find the tick \n",
    "SH <- quantmod::getSymbols(tick, auto.assign = FALSE, \n",
    "         from = \"2000-01-01\")[, paste0(tick,\".Close\")]\n",
    "\n",
    "plot(SH)"
   ]
  },
  {
   "cell_type": "markdown",
   "metadata": {},
   "source": [
    "### 000001.SS Return"
   ]
  },
  {
   "cell_type": "code",
   "execution_count": null,
   "metadata": {
    "vscode": {
     "languageId": "r"
    }
   },
   "outputs": [],
   "source": [
    "diff(log(SH)) %>% plot()"
   ]
  },
  {
   "cell_type": "markdown",
   "metadata": {},
   "source": [
    "### Bank Marketing Data\n",
    "\n",
    "\n",
    "* Direct marketing campaigns of a Portuguese banking institution. \n",
    "\n",
    "\n",
    "* S. Moro, R. Laureano and P. Cortez. Using Data Mining for Bank Direct Marketing: An Application of the CRISP-DM Methodology. In P. Novais et al. (Eds.), Proceedings of the European Simulation and Modelling Conference - ESM'2011, pp. 117-121, Guimarães, Portugal, October, 2011. EUROSIS.\n",
    "\n",
    "\n",
    "*  **Data Import**: `readr::read_delim`"
   ]
  },
  {
   "cell_type": "code",
   "execution_count": null,
   "metadata": {
    "vscode": {
     "languageId": "r"
    }
   },
   "outputs": [],
   "source": [
    "library(tidyverse)\n",
    "\n",
    "# `readr` packages has more flexible functions to import data\n",
    "d0 = readr::read_delim(\"data_example/bank-full.csv\", delim = \";\", col_names = TRUE,\n",
    "                       col_types = cols(\n",
    "                         age = \"i\",\n",
    "                         job = \"c\",\n",
    "                         marital = \"f\",\n",
    "                         education = \"f\",\n",
    "                         balance = \"i\",\n",
    "                         )\n",
    "                       )\n",
    "\n",
    "head(d0)\n",
    "colnames(d0)\n"
   ]
  },
  {
   "cell_type": "markdown",
   "metadata": {},
   "source": [
    "## Data Transformation\n",
    "\n",
    "* `filter`: pick out a subset of rows that satisfy some conditions\n",
    "* `select`: pick out a subset of columns\n",
    "* `arrange`: order rows. Default order from low to high\n",
    "* `mutate`: add columns produced by the existing ones"
   ]
  },
  {
   "cell_type": "code",
   "execution_count": null,
   "metadata": {
    "vscode": {
     "languageId": "r"
    }
   },
   "outputs": [],
   "source": [
    "# select columns\n",
    "d1 = select(d0, age:loan)\n",
    "head(d1)"
   ]
  },
  {
   "cell_type": "code",
   "execution_count": null,
   "metadata": {
    "vscode": {
     "languageId": "r"
    }
   },
   "outputs": [],
   "source": [
    "# select a subset by conditions\n",
    "filter(d1, job == \"blue-collar\", age > 50) \n",
    "filter(d1, job == \"blue-collar\", (age > 20 & age <= 30) ) "
   ]
  },
  {
   "cell_type": "code",
   "execution_count": null,
   "metadata": {
    "vscode": {
     "languageId": "r"
    }
   },
   "outputs": [],
   "source": [
    "# (re)arrange rows\n",
    "arrange(d1, age, education)\n",
    "arrange(d1, desc(age), education)"
   ]
  },
  {
   "cell_type": "code",
   "execution_count": null,
   "metadata": {
    "vscode": {
     "languageId": "r"
    }
   },
   "outputs": [],
   "source": [
    "# add generated columns (last column)\n",
    "mutate(d1, edu_f = as.numeric(education) )"
   ]
  },
  {
   "cell_type": "code",
   "execution_count": null,
   "metadata": {
    "vscode": {
     "languageId": "r"
    }
   },
   "outputs": [],
   "source": [
    "transmute(d1, \n",
    "          age = age,\n",
    "          marital = as.numeric(marital), \n",
    "          education = as.numeric(education))"
   ]
  },
  {
   "cell_type": "markdown",
   "metadata": {},
   "source": [
    "## Summarize\n",
    "\n",
    "* `group_by`"
   ]
  },
  {
   "cell_type": "code",
   "execution_count": null,
   "metadata": {
    "vscode": {
     "languageId": "r"
    }
   },
   "outputs": [],
   "source": [
    "# overall mean balance \n",
    "summarize(d1, mean_b = mean(balance))"
   ]
  },
  {
   "cell_type": "code",
   "execution_count": null,
   "metadata": {
    "vscode": {
     "languageId": "r"
    }
   },
   "outputs": [],
   "source": [
    "# mean balance by groups\n",
    "group_by(d1, education) %>%\n",
    "  summarize( mean_b = mean(balance))"
   ]
  },
  {
   "cell_type": "code",
   "execution_count": null,
   "metadata": {
    "vscode": {
     "languageId": "r"
    }
   },
   "outputs": [],
   "source": [
    "d1 %>%\n",
    "  group_by(education, marital) %>%\n",
    "  summarize( mean_b = mean(balance),\n",
    "             sd_b = sd(balance),\n",
    "             count = n())"
   ]
  },
  {
   "cell_type": "markdown",
   "metadata": {},
   "source": [
    "## Data Scrapping\n",
    "\n",
    "* [Liangjia Shenzhen data](https://github.com/zhentaoshi/econ_data_science/blob/master/data_example/Scrape_Lianjia.ipynb) (by Wang Yishu)"
   ]
  },
  {
   "cell_type": "markdown",
   "metadata": {
    "slideshow": {
     "slide_type": "slide"
    }
   },
   "source": [
    "## Version Control\n",
    "\n",
    "* [Git](https://git-scm.com/)\n",
    "  - coding projects\n",
    "  - long documents\n",
    "  \n",
    "* [Github](https://github.com/)\n",
    "  - online copy\n",
    "  - collaboration\n"
   ]
  },
  {
   "cell_type": "markdown",
   "metadata": {
    "slideshow": {
     "slide_type": "slide"
    }
   },
   "source": [
    "Collaboration typically works as follows:\n",
    "1. Fetch and merge changes from a remote repository;\n",
    "2. Create a branch to work on a new project feature;\n",
    "3. Develop the feature on your branch and commit your work;\n",
    "4. Fetch and merge from the remote again (in case other collaborators have uploaded new commits while you were working);\n",
    "5. Push your branch up to the remote for review."
   ]
  },
  {
   "cell_type": "markdown",
   "metadata": {
    "slideshow": {
     "slide_type": "slide"
    }
   },
   "source": [
    "## Markdown\n",
    "\n",
    "* Text only. \n",
    "* Simple syntax.\n",
    "* [Cheat sheet](https://www.markdownguide.org/cheat-sheet/)"
   ]
  }
 ],
 "metadata": {
  "celltoolbar": "Slideshow",
  "kernelspec": {
   "display_name": "R",
   "language": "R",
   "name": "ir"
  },
  "language_info": {
   "codemirror_mode": "r",
   "file_extension": ".r",
   "mimetype": "text/x-r-source",
   "name": "R",
   "pygments_lexer": "r",
   "version": "4.2.2"
  },
  "rise": {
   "enable_chalkboard": true,
   "theme": "serif"
  }
 },
 "nbformat": 4,
 "nbformat_minor": 4
}
