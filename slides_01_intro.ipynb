{
 "cells": [
  {
   "attachments": {},
   "cell_type": "markdown",
   "metadata": {
    "slideshow": {
     "slide_type": "slide"
    }
   },
   "source": [
    "# Economic Data Science\n",
    "\n",
    "@ Central University of Finance and Economics"
   ]
  },
  {
   "cell_type": "markdown",
   "metadata": {
    "slideshow": {
     "slide_type": "-"
    }
   },
   "source": [
    "\n",
    "**Zhentao Shi**\n",
    "\n",
    "Department of Economics\n",
    "\n",
    "The Chinese University of Hong Kong"
   ]
  },
  {
   "cell_type": "markdown",
   "metadata": {
    "slideshow": {
     "slide_type": "slide"
    }
   },
   "source": [
    "### Why data\n",
    "\n",
    "* Scientific research. e.g. Physics.\n",
    "  * Theory and experimental evidence."
   ]
  },
  {
   "cell_type": "markdown",
   "metadata": {
    "slideshow": {
     "slide_type": "fragment"
    }
   },
   "source": [
    "* Economics research.\n",
    "  * Modeling causality\n",
    "  * Experimental causality"
   ]
  },
  {
   "cell_type": "markdown",
   "metadata": {
    "slideshow": {
     "slide_type": "subslide"
    }
   },
   "source": [
    "* Business analytics\n",
    "  * Descriptive statistics\n",
    "  * Prediction\n",
    "  * Inference"
   ]
  },
  {
   "cell_type": "markdown",
   "metadata": {
    "slideshow": {
     "slide_type": "slide"
    }
   },
   "source": [
    "## Programming\n",
    "\n",
    "* Essential skill\n",
    "* Low-level languages: C, Fortran, ...\n",
    "* High-level languages: Python, R, Matlab, Stata, ..."
   ]
  },
  {
   "cell_type": "markdown",
   "metadata": {
    "slideshow": {
     "slide_type": "fragment"
    }
   },
   "source": [
    "* This course uses R for demonstration\n",
    "* Students can choose their own languages"
   ]
  },
  {
   "cell_type": "markdown",
   "metadata": {},
   "source": [
    "## Version Control\n",
    "\n",
    "* [Git](https://git-scm.com/)\n",
    "  - coding projects\n",
    "  - long documents\n",
    "  \n",
    "* [Github](https://github.com/)\n",
    "  - online copy\n",
    "  - collaboration\n"
   ]
  },
  {
   "cell_type": "markdown",
   "metadata": {},
   "source": [
    "## Full-Length Tutorials\n",
    "\n",
    "* [Atlassian Online Tutorial](https://www.atlassian.com/git/tutorials) \n",
    "* [Happy Git with R](https://happygitwithr.com/)\n",
    "* [Pro Git](http://git-scm.com/book/en/v2)\n",
    "\n",
    "Short tutorials are listed at the end of the slides as reading assignments."
   ]
  },
  {
   "cell_type": "markdown",
   "metadata": {},
   "source": [
    "## Interfaces\n",
    "\n",
    "* Command line interface (CLI)\n",
    "* Graphic user interface\n",
    "  - [SourceTree](https://www.sourcetreeapp.com/)"
   ]
  },
  {
   "cell_type": "markdown",
   "metadata": {},
   "source": [
    "## Linux\n",
    "\n",
    "* GUI for PC\n",
    "* Command line for cloud compting\n",
    "  * E.g: [CUHK SCRP](https://scrp-login.econ.cuhk.edu.hk/)"
   ]
  },
  {
   "cell_type": "markdown",
   "metadata": {},
   "source": [
    "* `mkdir`: make directory\n",
    "* `cd`: change directory\n",
    "* `ls`: display files\n",
    "* `cp`: copy a file\n",
    "* `nano`: open a file in a text editor called \"nano\"\n",
    "* `uname`: name of the system\n",
    "* `R`: Open R  \n",
    "  "
   ]
  },
  {
   "cell_type": "markdown",
   "metadata": {},
   "source": [
    "## Basic Commands\n",
    "\n",
    "### Identity\n",
    "\n",
    "* `git config --global user.name <name>`\n",
    "* `git config --global user.email <email>`\n",
    "\n"
   ]
  },
  {
   "cell_type": "markdown",
   "metadata": {},
   "source": [
    "### Local\n",
    "\n",
    "* .gitignore\n",
    "* `git help <command>` gets help for a git command\n",
    "* `git init`  creates a new git repo, with data stored in the `.git` directory\n",
    "* `git status` inspects the contents of the working directory and staging area.\n",
    "* `git add filename` adds files to the staging area from working directory.\n",
    "* `git add filename1 filename2` adds multiple files to the staging area."
   ]
  },
  {
   "cell_type": "markdown",
   "metadata": {},
   "source": [
    "* `git commit` stores changes from the staging area to the repository.\n",
    "* `git commit -m \"Commit Message\"` The commit message must be in the quotation marks.\n",
    "* `git log` displays historical commits stored chronologically in the repository.\n",
    "* `git tag -a v1.0 -m 'message' [optional:commit-id]`"
   ]
  },
  {
   "cell_type": "markdown",
   "metadata": {},
   "source": [
    "#### Eraser-like features\n",
    "\n",
    "The latest commit is called **HEAD** commit\n",
    "* `git show HEAD`  displays view the HEAD commit.\n",
    "* `git checkout HEAD filename` restores the file in the working directory to what you made in last commit.\n",
    "* `git reset HEAD filename` unstages the file from committing in the staging area. It does not discard file changes from the working directory; it just removes them from the staging area.\n",
    "* `git reset SHA` works by using **the first 7 characters** of the SHA of a previous commit."
   ]
  },
  {
   "cell_type": "markdown",
   "metadata": {},
   "source": [
    "#### Branch\n",
    "\n",
    "Branches can be created for new project features.\n",
    "\n",
    "The ultimate goal is to merge that feature into the master branch.\n",
    "\n",
    "* `git branch` displays the current branch.\n",
    "* `git branch brach_name` creates a new branch\n",
    "* `git checkout branch_name` switches to a branch\n",
    "* `git merge branch_name` merges the branch"
   ]
  },
  {
   "cell_type": "markdown",
   "metadata": {},
   "source": [
    "## Github\n",
    "\n",
    "* Cloud git services: \n",
    "  * github\n",
    "  * bitbucket\n",
    "  * gitlab\n",
    "  * gitee (China) ...\n",
    "  \n",
    "  "
   ]
  },
  {
   "cell_type": "markdown",
   "metadata": {},
   "source": [
    "* Github most popular\n",
    "  * Free Pro account for students "
   ]
  },
  {
   "cell_type": "markdown",
   "metadata": {},
   "source": [
    "### Remote\n",
    "\n",
    "* `git clone https://github.com/user_name/repo_name`\n",
    "* `git remote add origin` adds the origin remote's URL.\n",
    "* `git remote -v` lists git project's remote copies.\n",
    "* `git push origin master` uploads local commits to the remote repository.\n",
    "* `git pull` downloads the remote copy and merge.\n",
    "* `git fetch` fetches the remote copy to the local hard disk."
   ]
  },
  {
   "cell_type": "markdown",
   "metadata": {},
   "source": [
    "Collaboration typically works as follows:\n",
    "1. Fetch and merge changes from a remote repository;\n",
    "2. Create a branch to work on a new project feature;\n",
    "3. Develop the feature on your branch and commit your work;\n",
    "4. Fetch and merge from the remote again (in case other collaborators have uploaded new commits while you were working);\n",
    "5. Push your branch up to the remote for review."
   ]
  },
  {
   "cell_type": "markdown",
   "metadata": {},
   "source": [
    "#### Conflict\n",
    "\n",
    "* Collaborators working separately on the same line of a file may easily encounter conflicts. \n",
    "* If so, `git pull` will not merge changes from the remote into local repo. \n",
    "* Need to resolve the conflicts"
   ]
  },
  {
   "cell_type": "markdown",
   "metadata": {},
   "source": [
    "## Markdown\n",
    "\n",
    "* Text only. \n",
    "* Simple syntax.\n",
    "* [Cheat sheet](https://www.markdownguide.org/cheat-sheet/)"
   ]
  },
  {
   "cell_type": "markdown",
   "metadata": {},
   "source": [
    "## Exercises\n",
    "\n",
    "1. Initial a git repo in a folder (either local or on SCRP)\n",
    "2. Create an md file called `hello.md`, and write \"Hello World!\" in it.\n",
    "3. Commit the changes.\n",
    "4. Register a github account (if you haven't done so).\n",
    "5. Push the latest commit to github."
   ]
  },
  {
   "cell_type": "markdown",
   "metadata": {},
   "source": [
    "## Readings\n",
    "\n",
    "As a general tool for coding, there are plenty of excellent tutorials online.\n",
    "\n",
    "* Grant McDermott's lecture notes: [Git](https://raw.githack.com/uo-ec510-2020-spring/lectures/master/02-git/02-git.html#1), [Shell](https://raw.githack.com/uo-ec510-2020-spring/lectures/master/03-shell/03-shell.html#1)\n",
    "* Youtube videos\n",
    "  * 10-min [video](https://www.youtube.com/watch?v=q4CQBuZ4IGo) in Chinese.\n",
    "  * 1-hour [video](https://www.youtube.com/watch?v=RGOj5yH7evk) for beginners.\n",
    "\n",
    "**Final words**: \n",
    "Don't expect you can be a Git guru in one day.\n",
    "It is learning by doing."
   ]
  }
 ],
 "metadata": {
  "celltoolbar": "Slideshow",
  "kernelspec": {
   "display_name": "R",
   "language": "R",
   "name": "ir"
  },
  "language_info": {
   "codemirror_mode": "r",
   "file_extension": ".r",
   "mimetype": "text/x-r-source",
   "name": "R",
   "pygments_lexer": "r",
   "version": "4.2.2"
  },
  "rise": {
   "enable_chalkboard": true,
   "theme": "serif"
  }
 },
 "nbformat": 4,
 "nbformat_minor": 4
}
