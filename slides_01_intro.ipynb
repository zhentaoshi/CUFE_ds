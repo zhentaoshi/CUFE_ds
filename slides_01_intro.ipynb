{
 "cells": [
  {
   "attachments": {},
   "cell_type": "markdown",
   "metadata": {
    "slideshow": {
     "slide_type": "slide"
    }
   },
   "source": [
    "# Economic Data Science\n",
    "\n",
    "@ Central University of Finance and Economics"
   ]
  },
  {
   "attachments": {},
   "cell_type": "markdown",
   "metadata": {
    "slideshow": {
     "slide_type": "-"
    }
   },
   "source": [
    "\n",
    "**Zhentao Shi**\n",
    "\n",
    "Department of Economics\n",
    "\n",
    "The Chinese University of Hong Kong"
   ]
  },
  {
   "attachments": {},
   "cell_type": "markdown",
   "metadata": {
    "slideshow": {
     "slide_type": "slide"
    }
   },
   "source": [
    "### Why data\n",
    "\n",
    "* Scientific research. e.g. Physics.\n",
    "  * Theory and experimental evidence."
   ]
  },
  {
   "attachments": {},
   "cell_type": "markdown",
   "metadata": {
    "slideshow": {
     "slide_type": "fragment"
    }
   },
   "source": [
    "* Economics research.\n",
    "  * Modeling causality\n",
    "  * Experimental causality"
   ]
  },
  {
   "attachments": {},
   "cell_type": "markdown",
   "metadata": {
    "slideshow": {
     "slide_type": "subslide"
    }
   },
   "source": [
    "* Business analytics\n",
    "  * Descriptive statistics\n",
    "  * Prediction\n",
    "  * Inference"
   ]
  },
  {
   "attachments": {},
   "cell_type": "markdown",
   "metadata": {
    "slideshow": {
     "slide_type": "slide"
    }
   },
   "source": [
    "## Programming\n",
    "\n",
    "* Essential skill\n",
    "* Low-level languages: C, Fortran, ...\n",
    "* High-level languages: Python, R, Matlab, Stata, ..."
   ]
  },
  {
   "attachments": {},
   "cell_type": "markdown",
   "metadata": {
    "slideshow": {
     "slide_type": "fragment"
    }
   },
   "source": [
    "* This course uses R for demonstration\n",
    "* Students can choose their own languages"
   ]
  },
  {
   "attachments": {},
   "cell_type": "markdown",
   "metadata": {},
   "source": [
    "## Version Control\n",
    "\n",
    "* [Git](https://git-scm.com/)\n",
    "  - coding projects\n",
    "  - long documents\n",
    "  \n",
    "* [Github](https://github.com/)\n",
    "  - online copy\n",
    "  - collaboration\n"
   ]
  },
  {
   "attachments": {},
   "cell_type": "markdown",
   "metadata": {},
   "source": [
    "Collaboration typically works as follows:\n",
    "1. Fetch and merge changes from a remote repository;\n",
    "2. Create a branch to work on a new project feature;\n",
    "3. Develop the feature on your branch and commit your work;\n",
    "4. Fetch and merge from the remote again (in case other collaborators have uploaded new commits while you were working);\n",
    "5. Push your branch up to the remote for review."
   ]
  },
  {
   "attachments": {},
   "cell_type": "markdown",
   "metadata": {},
   "source": [
    "## Markdown\n",
    "\n",
    "* Text only. \n",
    "* Simple syntax.\n",
    "* [Cheat sheet](https://www.markdownguide.org/cheat-sheet/)"
   ]
  }
 ],
 "metadata": {
  "celltoolbar": "Slideshow",
  "kernelspec": {
   "display_name": "R",
   "language": "R",
   "name": "ir"
  },
  "language_info": {
   "codemirror_mode": "r",
   "file_extension": ".r",
   "mimetype": "text/x-r-source",
   "name": "R",
   "pygments_lexer": "r",
   "version": "4.2.2"
  },
  "rise": {
   "enable_chalkboard": true,
   "theme": "serif"
  }
 },
 "nbformat": 4,
 "nbformat_minor": 4
}
