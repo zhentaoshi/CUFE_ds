{
 "cells": [
  {
   "cell_type": "markdown",
   "metadata": {
    "slideshow": {
     "slide_type": "slide"
    }
   },
   "source": [
    "# Basic R\n",
    "\n",
    "Zhentao Shi"
   ]
  },
  {
   "cell_type": "markdown",
   "metadata": {
    "slideshow": {
     "slide_type": "slide"
    }
   },
   "source": [
    "## Statistical Languages\n",
    "\n",
    "* Time investment is essential for language learning\n",
    "* Python vs R"
   ]
  },
  {
   "cell_type": "markdown",
   "metadata": {
    "slideshow": {
     "slide_type": "fragment"
    }
   },
   "source": [
    "* Official document: [R-Introduction](https://cran.r-project.org/doc/manuals/r-release/R-intro.pdf)"
   ]
  },
  {
   "cell_type": "markdown",
   "metadata": {
    "slideshow": {
     "slide_type": "slide"
    },
    "tags": []
   },
   "source": [
    "## Help System\n",
    "\n",
    "* If exact name of a function known, call `help(function_name)` or `?function_name`\n",
    "* Otherwise, `??key_words`"
   ]
  },
  {
   "cell_type": "code",
   "execution_count": null,
   "metadata": {
    "slideshow": {
     "slide_type": "subslide"
    },
    "tags": [],
    "vscode": {
     "languageId": "r"
    }
   },
   "outputs": [],
   "source": [
    "?seq"
   ]
  },
  {
   "cell_type": "code",
   "execution_count": null,
   "metadata": {
    "slideshow": {
     "slide_type": "fragment"
    },
    "tags": [],
    "vscode": {
     "languageId": "r"
    }
   },
   "outputs": [],
   "source": [
    "??sequence"
   ]
  },
  {
   "attachments": {},
   "cell_type": "markdown",
   "metadata": {
    "slideshow": {
     "slide_type": "slide"
    }
   },
   "source": [
    "## Assignment\n",
    "\n",
    " * `<-` or `=`\n",
    "   * Personally I prefer \"=\" to \"<-\"."
   ]
  },
  {
   "cell_type": "code",
   "execution_count": null,
   "metadata": {
    "slideshow": {
     "slide_type": "fragment"
    },
    "vscode": {
     "languageId": "r"
    }
   },
   "outputs": [],
   "source": [
    "a <- 1; a"
   ]
  },
  {
   "cell_type": "code",
   "execution_count": null,
   "metadata": {
    "slideshow": {
     "slide_type": "fragment"
    },
    "vscode": {
     "languageId": "r"
    }
   },
   "outputs": [],
   "source": [
    "b <- 2; b"
   ]
  },
  {
   "cell_type": "code",
   "execution_count": null,
   "metadata": {
    "slideshow": {
     "slide_type": "fragment"
    },
    "vscode": {
     "languageId": "r"
    }
   },
   "outputs": [],
   "source": [
    "f = a + b; f # try to avoid `c`, which is an internal command"
   ]
  },
  {
   "cell_type": "code",
   "execution_count": null,
   "metadata": {
    "slideshow": {
     "slide_type": "slide"
    },
    "vscode": {
     "languageId": "r"
    }
   },
   "outputs": [],
   "source": [
    "d = log(f); d"
   ]
  },
  {
   "cell_type": "code",
   "execution_count": null,
   "metadata": {
    "slideshow": {
     "slide_type": "fragment"
    },
    "vscode": {
     "languageId": "r"
    }
   },
   "outputs": [],
   "source": [
    "e = sqrt(d); e"
   ]
  },
  {
   "cell_type": "code",
   "execution_count": null,
   "metadata": {
    "slideshow": {
     "slide_type": "subslide"
    },
    "vscode": {
     "languageId": "r"
    }
   },
   "outputs": [],
   "source": [
    "cat(\"log(c) =\", e, \"is a simple calculation\"); print(e)"
   ]
  },
  {
   "cell_type": "code",
   "execution_count": null,
   "metadata": {
    "slideshow": {
     "slide_type": "fragment"
    },
    "vscode": {
     "languageId": "r"
    }
   },
   "outputs": [],
   "source": [
    "cat(\"exp(e) =\", exp(e), \". I want a nice new line. \\n\"); print(e)"
   ]
  },
  {
   "cell_type": "code",
   "execution_count": null,
   "metadata": {
    "slideshow": {
     "slide_type": "fragment"
    },
    "vscode": {
     "languageId": "r"
    }
   },
   "outputs": [],
   "source": [
    "ls() # display the objects in memory"
   ]
  },
  {
   "cell_type": "markdown",
   "metadata": {
    "slideshow": {
     "slide_type": "slide"
    }
   },
   "source": [
    "R is case sentitive. `a` and `A` are two different objects."
   ]
  },
  {
   "cell_type": "code",
   "execution_count": null,
   "metadata": {
    "slideshow": {
     "slide_type": "fragment"
    },
    "vscode": {
     "languageId": "r"
    }
   },
   "outputs": [],
   "source": [
    "A = \"abc\"\n",
    "cat(\"a is\", a, \", whereas A is \", A, \".\")"
   ]
  },
  {
   "cell_type": "markdown",
   "metadata": {
    "slideshow": {
     "slide_type": "slide"
    }
   },
   "source": [
    "Clean up the memory. It is recommended as the first line of a clean script."
   ]
  },
  {
   "cell_type": "code",
   "execution_count": null,
   "metadata": {
    "slideshow": {
     "slide_type": "fragment"
    },
    "vscode": {
     "languageId": "r"
    }
   },
   "outputs": [],
   "source": [
    "rm(list = ls())"
   ]
  },
  {
   "cell_type": "code",
   "execution_count": null,
   "metadata": {
    "slideshow": {
     "slide_type": "fragment"
    },
    "vscode": {
     "languageId": "r"
    }
   },
   "outputs": [],
   "source": [
    "ls()"
   ]
  },
  {
   "cell_type": "markdown",
   "metadata": {
    "slideshow": {
     "slide_type": "slide"
    }
   },
   "source": [
    "## Vector\n",
    "\n",
    "* A collection of elements of the same type, \n",
    "  * integer\n",
    "  * logical\n",
    "  * real number\n",
    "  * complex number \n",
    "  * characters\n",
    "  * factor"
   ]
  },
  {
   "cell_type": "markdown",
   "metadata": {
    "slideshow": {
     "slide_type": "fragment"
    }
   },
   "source": [
    "  \n",
    "* R does not require explicit type declaration."
   ]
  },
  {
   "cell_type": "markdown",
   "metadata": {
    "slideshow": {
     "slide_type": "slide"
    }
   },
   "source": [
    " * `c()`  combines two or more vectors into a long vector.\n",
    " * Binary arithmetic operations\n",
    "   * element by element \n",
    "   * `+`, `-`, `*` and `/`\n",
    "   * logical operations `&` `|` `!=`"
   ]
  },
  {
   "cell_type": "code",
   "execution_count": null,
   "metadata": {
    "slideshow": {
     "slide_type": "subslide"
    },
    "vscode": {
     "languageId": "r"
    }
   },
   "outputs": [],
   "source": [
    "a = c(1,2,3, 4); a"
   ]
  },
  {
   "cell_type": "code",
   "execution_count": null,
   "metadata": {
    "slideshow": {
     "slide_type": "fragment"
    },
    "vscode": {
     "languageId": "r"
    }
   },
   "outputs": [],
   "source": [
    "b = rep(c(1,2), 2); b"
   ]
  },
  {
   "cell_type": "code",
   "execution_count": null,
   "metadata": {
    "slideshow": {
     "slide_type": "fragment"
    },
    "vscode": {
     "languageId": "r"
    }
   },
   "outputs": [],
   "source": [
    "a+b"
   ]
  },
  {
   "cell_type": "code",
   "execution_count": null,
   "metadata": {
    "slideshow": {
     "slide_type": "subslide"
    },
    "vscode": {
     "languageId": "r"
    }
   },
   "outputs": [],
   "source": [
    "# logical vectors\n",
    "logi_1 <- c(T, T, F); logi_1"
   ]
  },
  {
   "cell_type": "code",
   "execution_count": null,
   "metadata": {
    "slideshow": {
     "slide_type": "fragment"
    },
    "vscode": {
     "languageId": "r"
    }
   },
   "outputs": [],
   "source": [
    "logi_2 <- c(F, T, T); logi_2"
   ]
  },
  {
   "cell_type": "code",
   "execution_count": null,
   "metadata": {
    "slideshow": {
     "slide_type": "fragment"
    },
    "vscode": {
     "languageId": "r"
    }
   },
   "outputs": [],
   "source": [
    "logi_1 & logi_2"
   ]
  },
  {
   "cell_type": "markdown",
   "metadata": {
    "slideshow": {
     "slide_type": "slide"
    }
   },
   "source": [
    "Missing values in R is represented as `NA` (Not Available). "
   ]
  },
  {
   "cell_type": "code",
   "execution_count": null,
   "metadata": {
    "slideshow": {
     "slide_type": "fragment"
    },
    "vscode": {
     "languageId": "r"
    }
   },
   "outputs": [],
   "source": [
    "   a = NA; b = 3; a+b"
   ]
  },
  {
   "cell_type": "markdown",
   "metadata": {
    "slideshow": {
     "slide_type": "subslide"
    }
   },
   "source": [
    "When some operations are not allowed, say, `log(-1)`, R returns  `NaN` (Not a Number)."
   ]
  },
  {
   "cell_type": "code",
   "execution_count": null,
   "metadata": {
    "slideshow": {
     "slide_type": "fragment"
    },
    "vscode": {
     "languageId": "r"
    }
   },
   "outputs": [],
   "source": [
    "log(-1)"
   ]
  },
  {
   "cell_type": "code",
   "execution_count": null,
   "metadata": {
    "slideshow": {
     "slide_type": "fragment"
    },
    "vscode": {
     "languageId": "r"
    }
   },
   "outputs": [],
   "source": [
    "sqrt(-1)"
   ]
  },
  {
   "cell_type": "code",
   "execution_count": null,
   "metadata": {
    "slideshow": {
     "slide_type": "subslide"
    },
    "vscode": {
     "languageId": "r"
    }
   },
   "outputs": [],
   "source": [
    "a = Inf\n",
    "a+a"
   ]
  },
  {
   "cell_type": "code",
   "execution_count": null,
   "metadata": {
    "slideshow": {
     "slide_type": "fragment"
    },
    "vscode": {
     "languageId": "r"
    }
   },
   "outputs": [],
   "source": [
    "b = -Inf\n",
    "a+b"
   ]
  },
  {
   "cell_type": "markdown",
   "metadata": {
    "slideshow": {
     "slide_type": "slide"
    }
   },
   "source": [
    "## Selection\n",
    "\n",
    "* Vector selection is specified in square bracket `a[ ]` \n",
    "  * by either positive integer or logical vector.\n",
    "  * Index initiates from 1, not 0 (Python's rule). "
   ]
  },
  {
   "cell_type": "code",
   "execution_count": null,
   "metadata": {
    "slideshow": {
     "slide_type": "subslide"
    },
    "vscode": {
     "languageId": "r"
    }
   },
   "outputs": [],
   "source": [
    "a = 1:10\n",
    "a[5:7]"
   ]
  },
  {
   "cell_type": "code",
   "execution_count": null,
   "metadata": {
    "slideshow": {
     "slide_type": "fragment"
    },
    "vscode": {
     "languageId": "r"
    }
   },
   "outputs": [],
   "source": [
    "d = seq(-1, 1, by = 0.1); print(d)\n",
    "d[5:7]"
   ]
  },
  {
   "cell_type": "code",
   "execution_count": null,
   "metadata": {
    "slideshow": {
     "slide_type": "subslide"
    },
    "vscode": {
     "languageId": "r"
    }
   },
   "outputs": [],
   "source": [
    "f = c(\"a\",\"b\",\"c\",\"d\",\"e\",\"f\",\"g\",\"h\",\"i\",\"j\")\n",
    "f[5:7]"
   ]
  },
  {
   "cell_type": "code",
   "execution_count": null,
   "metadata": {
    "slideshow": {
     "slide_type": "fragment"
    },
    "vscode": {
     "languageId": "r"
    }
   },
   "outputs": [],
   "source": [
    "b = \"abcdefghij\"\n",
    "b[5:7] # the indexed items do not exists"
   ]
  },
  {
   "cell_type": "markdown",
   "metadata": {
    "slideshow": {
     "slide_type": "slide"
    }
   },
   "source": [
    "## Data types\n",
    "\n",
    "* The way R stores data"
   ]
  },
  {
   "cell_type": "code",
   "execution_count": null,
   "metadata": {
    "slideshow": {
     "slide_type": "fragment"
    },
    "vscode": {
     "languageId": "r"
    }
   },
   "outputs": [],
   "source": [
    "a <- \"18\"; a"
   ]
  },
  {
   "cell_type": "code",
   "execution_count": null,
   "metadata": {
    "slideshow": {
     "slide_type": "fragment"
    },
    "vscode": {
     "languageId": "r"
    }
   },
   "outputs": [],
   "source": [
    "b <- as.numeric(a); b"
   ]
  },
  {
   "cell_type": "code",
   "execution_count": null,
   "metadata": {
    "slideshow": {
     "slide_type": "fragment"
    },
    "vscode": {
     "languageId": "r"
    }
   },
   "outputs": [],
   "source": [
    "x = pi * c(-1:1, 10); x"
   ]
  },
  {
   "cell_type": "code",
   "execution_count": null,
   "metadata": {
    "slideshow": {
     "slide_type": "fragment"
    },
    "vscode": {
     "languageId": "r"
    }
   },
   "outputs": [],
   "source": [
    "as.integer(x)"
   ]
  },
  {
   "cell_type": "code",
   "execution_count": null,
   "metadata": {
    "slideshow": {
     "slide_type": "slide"
    },
    "vscode": {
     "languageId": "r"
    }
   },
   "outputs": [],
   "source": [
    "a = 3; is.integer(a) # it is numeric"
   ]
  },
  {
   "cell_type": "code",
   "execution_count": null,
   "metadata": {
    "slideshow": {
     "slide_type": "fragment"
    },
    "vscode": {
     "languageId": "r"
    }
   },
   "outputs": [],
   "source": [
    "a = as.integer(3); a; is.integer(a)"
   ]
  },
  {
   "cell_type": "code",
   "execution_count": null,
   "metadata": {
    "slideshow": {
     "slide_type": "fragment"
    },
    "vscode": {
     "languageId": "r"
    }
   },
   "outputs": [],
   "source": [
    "b = as.double(a); is.integer(b); b"
   ]
  },
  {
   "cell_type": "markdown",
   "metadata": {
    "slideshow": {
     "slide_type": "slide"
    }
   },
   "source": [
    "## Array and Matrix\n",
    "\n",
    "* *array*: number table of multiple dimensions. \n",
    "* *matrix*: 2-dimensional array.\n",
    "\n",
    "* R is of column-major order\n",
    "* array arithmetic: element-by-element. "
   ]
  },
  {
   "cell_type": "code",
   "execution_count": null,
   "metadata": {
    "slideshow": {
     "slide_type": "subslide"
    },
    "vscode": {
     "languageId": "r"
    }
   },
   "outputs": [],
   "source": [
    "A = array(rpois(4*3*2, lambda = 1), dim = c(4,3,2)); print(A) # 3 dimensional array"
   ]
  },
  {
   "cell_type": "code",
   "execution_count": null,
   "metadata": {
    "slideshow": {
     "slide_type": "subslide"
    },
    "vscode": {
     "languageId": "r"
    }
   },
   "outputs": [],
   "source": [
    "B = array(rnorm(4*3*2), dim = c(4,3,2)); print(B)"
   ]
  },
  {
   "cell_type": "code",
   "execution_count": null,
   "metadata": {
    "slideshow": {
     "slide_type": "subslide"
    },
    "vscode": {
     "languageId": "r"
    }
   },
   "outputs": [],
   "source": [
    "print(A+B)"
   ]
  },
  {
   "cell_type": "markdown",
   "metadata": {
    "slideshow": {
     "slide_type": "subslide"
    }
   },
   "source": [
    "Caution must be exercised in binary operations involving two objects of different length. This is error-prone."
   ]
  },
  {
   "cell_type": "code",
   "execution_count": null,
   "metadata": {
    "slideshow": {
     "slide_type": "fragment"
    },
    "vscode": {
     "languageId": "r"
    }
   },
   "outputs": [],
   "source": [
    "A = matrix(1:6, 3); print(A)"
   ]
  },
  {
   "cell_type": "code",
   "execution_count": null,
   "metadata": {
    "slideshow": {
     "slide_type": "fragment"
    },
    "vscode": {
     "languageId": "r"
    }
   },
   "outputs": [],
   "source": [
    "B = matrix(1:3, 3); print(B)"
   ]
  },
  {
   "cell_type": "code",
   "execution_count": null,
   "metadata": {
    "slideshow": {
     "slide_type": "slide"
    },
    "vscode": {
     "languageId": "r"
    }
   },
   "outputs": [],
   "source": [
    "print(A+B) # produce error message"
   ]
  },
  {
   "cell_type": "code",
   "execution_count": null,
   "metadata": {
    "slideshow": {
     "slide_type": "fragment"
    },
    "vscode": {
     "languageId": "r"
    }
   },
   "outputs": [],
   "source": [
    "b = 1:3\n",
    "print(A+b)"
   ]
  },
  {
   "cell_type": "code",
   "execution_count": null,
   "metadata": {
    "slideshow": {
     "slide_type": "fragment"
    },
    "vscode": {
     "languageId": "r"
    }
   },
   "outputs": [],
   "source": [
    "d = 1:4\n",
    "print(A+d)"
   ]
  },
  {
   "cell_type": "markdown",
   "metadata": {
    "slideshow": {
     "slide_type": "slide"
    }
   },
   "source": [
    "## Matrix Operations\n",
    "\n",
    "* `%*%`: matrix multiplication\n",
    "* `solve` matrix inverse\n",
    "* `eigen` eigenvalues and eigenvectors"
   ]
  },
  {
   "cell_type": "markdown",
   "metadata": {
    "slideshow": {
     "slide_type": "subslide"
    }
   },
   "source": [
    "**Example**: OLS estimation with one $x$ regressor and a constant.\n",
    "Graduate textbook expresses the OLS in matrix form\n",
    "$$\\hat{\\beta} = (X' X)^{-1} X'y.$$\n",
    "To conduct OLS estimation in R, we literally translate the mathematical expression into code.\n",
    "\n"
   ]
  },
  {
   "cell_type": "markdown",
   "metadata": {
    "slideshow": {
     "slide_type": "subslide"
    }
   },
   "source": [
    "Step 1: We need data $Y$ and $X$ to run OLS. We simulate an artificial dataset."
   ]
  },
  {
   "cell_type": "code",
   "execution_count": null,
   "metadata": {
    "slideshow": {
     "slide_type": "fragment"
    },
    "vscode": {
     "languageId": "r"
    }
   },
   "outputs": [],
   "source": [
    "# simulate data\n",
    "rm(list = ls())\n",
    "set.seed(111) # can be removed to allow the result to change\n",
    "\n",
    "# set the parameters\n",
    "n <- 100\n",
    "b0 <- matrix(c(0.2, 1.0), nrow = 2)\n",
    "\n",
    "# generate the data\n",
    "e <- rnorm(n)\n",
    "X <- cbind(1, rnorm(n))\n",
    "Y <- X %*% b0 + e\n",
    "rm(e)"
   ]
  },
  {
   "cell_type": "markdown",
   "metadata": {
    "slideshow": {
     "slide_type": "slide"
    }
   },
   "source": [
    "Step 2: translate the formula to code\n"
   ]
  },
  {
   "cell_type": "code",
   "execution_count": null,
   "metadata": {
    "slideshow": {
     "slide_type": "fragment"
    },
    "vscode": {
     "languageId": "r"
    }
   },
   "outputs": [],
   "source": [
    "# OLS estimation\n",
    "bhat <- solve(t(X) %*% X, t(X) %*% Y); print(bhat)"
   ]
  },
  {
   "cell_type": "code",
   "execution_count": null,
   "metadata": {
    "slideshow": {
     "slide_type": "fragment"
    },
    "vscode": {
     "languageId": "r"
    }
   },
   "outputs": [],
   "source": [
    "bhat <- solve( crossprod(X), crossprod(X, Y))\n",
    "print( bhat ) # equivalent computation"
   ]
  },
  {
   "cell_type": "markdown",
   "metadata": {
    "slideshow": {
     "slide_type": "slide"
    }
   },
   "source": [
    "Step 3 (additional): plot the regression graph with the scatter points and the regression line.\n",
    "\n",
    "* Further compare the regression line (black) with the true coefficient line (red).\n"
   ]
  },
  {
   "cell_type": "code",
   "execution_count": null,
   "metadata": {
    "slideshow": {
     "slide_type": "subslide"
    },
    "vscode": {
     "languageId": "r"
    }
   },
   "outputs": [],
   "source": [
    "# plot\n",
    "plot(y = Y, x = X[, 2], xlab = \"X\", ylab = \"Y\", main = \"regression\")\n",
    "abline(a = bhat[1], b = bhat[2])\n",
    "abline(a = b0[1], b = b0[2], col = \"red\")\n",
    "abline(h = 0, lty = 2)\n",
    "abline(v = 0, lty = 2)"
   ]
  },
  {
   "cell_type": "markdown",
   "metadata": {
    "slideshow": {
     "slide_type": "slide"
    }
   },
   "source": [
    "Step 4: Hypothesis testing.\n",
    "\n",
    "The *t*-statistic is widely used.\n",
    "To test the null $H_0: \\beta_2 = 1$, we compute the associated *t*-statistic.\n",
    "Again, this is a translation.\n",
    "$$\n",
    "t  =  \\frac{\\hat{\\beta}_2 - \\beta_{02}}{ \\hat{\\sigma}_{\\hat{\\beta}_2}  }\n",
    "   =  \\frac{\\hat{\\beta}_2 - \\beta_{02}}{ \\sqrt{ \\left[ (X'X)^{-1} \\hat{\\sigma}^2 \\right]_{22} } }.\n",
    "$$\n",
    "where $[\\cdot]_{22}$ is the (2,2)-element of a matrix.\n"
   ]
  },
  {
   "cell_type": "code",
   "execution_count": null,
   "metadata": {
    "slideshow": {
     "slide_type": "subslide"
    },
    "vscode": {
     "languageId": "r"
    }
   },
   "outputs": [],
   "source": [
    "# calculate the t-value\n",
    "bhat2 <- bhat[2] # the parameter we want to test\n",
    "e_hat <- Y - X %*% bhat\n",
    "sigma_hat_square <- sum(e_hat^2) / (n - 2)\n",
    "Sigma_B <- solve(t(X) %*% X) * sigma_hat_square\n",
    "t_value_2 <- (bhat2 - b0[2]) / sqrt(Sigma_B[2, 2])\n",
    "cat(\"The t-statistic =\", t_value_2)"
   ]
  },
  {
   "cell_type": "markdown",
   "metadata": {
    "slideshow": {
     "slide_type": "slide"
    }
   },
   "source": [
    "## Mixed Data Types\n",
    "\n",
    "*  *Vector* only contains one type of elements.\n",
    "* *list* is a basket for objects of various types.\n",
    "  * A container when a procedure returns more than one useful object."
   ]
  },
  {
   "cell_type": "code",
   "execution_count": null,
   "metadata": {
    "slideshow": {
     "slide_type": "subslide"
    },
    "vscode": {
     "languageId": "r"
    }
   },
   "outputs": [],
   "source": [
    "Lst <- list(dept = \"Econ\", no = 5821)\n",
    "Lst"
   ]
  },
  {
   "cell_type": "code",
   "execution_count": null,
   "metadata": {
    "slideshow": {
     "slide_type": "fragment"
    },
    "vscode": {
     "languageId": "r"
    }
   },
   "outputs": [],
   "source": [
    "Lst$dept"
   ]
  },
  {
   "cell_type": "code",
   "execution_count": null,
   "metadata": {
    "slideshow": {
     "slide_type": "fragment"
    },
    "vscode": {
     "languageId": "r"
    }
   },
   "outputs": [],
   "source": [
    "Lst[[2]]"
   ]
  },
  {
   "cell_type": "markdown",
   "metadata": {
    "slideshow": {
     "slide_type": "slide"
    }
   },
   "source": [
    "**Example**: When we invoke `eigen`, we are\n",
    "interested in both eigenvalues and eigenvectors,\n",
    "which are stored into `$value` and `$vector`, respectively."
   ]
  },
  {
   "cell_type": "code",
   "execution_count": null,
   "metadata": {
    "slideshow": {
     "slide_type": "fragment"
    },
    "vscode": {
     "languageId": "r"
    }
   },
   "outputs": [],
   "source": [
    "A = diag(2)\n",
    "eigen(A)"
   ]
  },
  {
   "cell_type": "markdown",
   "metadata": {
    "slideshow": {
     "slide_type": "slide"
    },
    "tags": []
   },
   "source": [
    "## Package\n",
    "\n",
    "* Base installation is small\n",
    "* Extensive ecosystem of add-on packages.\n",
    "* Most packages are hosted on [CRAN](https://cran.r-project.org/web/packages/).\n",
    " "
   ]
  },
  {
   "cell_type": "markdown",
   "metadata": {
    "slideshow": {
     "slide_type": "fragment"
    },
    "tags": []
   },
   "source": [
    "* Installation: `install.packages(\"package_name\")`. \n",
    "\n",
    "* Invoking: `library(package_name)` or `package_name::function_name`"
   ]
  },
  {
   "cell_type": "code",
   "execution_count": null,
   "metadata": {
    "slideshow": {
     "slide_type": "fragment"
    },
    "vscode": {
     "languageId": "r"
    }
   },
   "outputs": [],
   "source": [
    "library(magrittr)"
   ]
  },
  {
   "cell_type": "markdown",
   "metadata": {
    "slideshow": {
     "slide_type": "slide"
    }
   },
   "source": [
    "## Input and Output\n",
    "\n",
    "* Raw data is often saved in ASCII file or Excel.\n",
    "* Excel spreadsheet is discouraged.\n",
    "* Recommend `csv` format"
   ]
  },
  {
   "cell_type": "markdown",
   "metadata": {
    "slideshow": {
     "slide_type": "fragment"
    }
   },
   "source": [
    "`read.table()` or `read.csv()` imports data from an ASCII file into an R session."
   ]
  },
  {
   "cell_type": "markdown",
   "metadata": {
    "slideshow": {
     "slide_type": "subslide"
    }
   },
   "source": [
    "**Example**: Acemoglu, Johnson and Robinson (2001). [Data source](https://economics.mit.edu/faculty/acemoglu/data/ajr2001). \n",
    "* This empirical example was adopted by Chang, Shi and Zhang (2022)."
   ]
  },
  {
   "cell_type": "code",
   "execution_count": null,
   "metadata": {
    "slideshow": {
     "slide_type": "fragment"
    },
    "vscode": {
     "languageId": "r"
    }
   },
   "outputs": [],
   "source": [
    "AJR = read.csv(\"data_example/AJR.csv\", header = TRUE)\n",
    "head(AJR)"
   ]
  },
  {
   "attachments": {},
   "cell_type": "markdown",
   "metadata": {
    "slideshow": {
     "slide_type": "slide"
    }
   },
   "source": [
    "## Data Frame\n",
    "\n",
    "* *data.frame* is a two-dimensional table that stores the data, \n",
    "  * similar to a spreadsheet in Excel.\n",
    "\n",
    "* *Matrix* it only accommodates one type of elements.\n",
    "\n",
    "* `tibble` is a new and refined alternative data frame type."
   ]
  },
  {
   "cell_type": "code",
   "execution_count": null,
   "metadata": {
    "slideshow": {
     "slide_type": "subslide"
    },
    "vscode": {
     "languageId": "r"
    }
   },
   "outputs": [],
   "source": [
    "tibble::tibble(AJR)"
   ]
  },
  {
   "cell_type": "markdown",
   "metadata": {
    "slideshow": {
     "slide_type": "subslide"
    }
   },
   "source": [
    "<a id='AJR_exec'></a>\n",
    "**Exercise**\n",
    "\n",
    "Use the dataset `AJR.csv`. \n",
    "* Collect a small dataset with five columns `shortnam`, `logpgp95`, `avexpr` (protection against exploitation), `lat_abst`, `logem4` (log of mortality rate) and `cons1`.\n",
    "* If any country has one of the above variables missing, remove that country from the data. (Hint: use `apply()`.)"
   ]
  },
  {
   "cell_type": "markdown",
   "metadata": {
    "slideshow": {
     "slide_type": "slide"
    }
   },
   "source": [
    "* It is better to convert Chinese characters into the encoding `UTF-8`. \n",
    "  * Need experiment to deal with garbled texts.\n",
    "  * `Notepad++` is a free tool for conversion; check `Encoding` in its menu."
   ]
  },
  {
   "cell_type": "code",
   "execution_count": null,
   "metadata": {
    "slideshow": {
     "slide_type": "subslide"
    },
    "vscode": {
     "languageId": "r"
    }
   },
   "outputs": [],
   "source": [
    "# stock_id <- readr::read_csv(\"data_example/SH_stockid_UTF8.csv\", \n",
    "# locale = readr::locale(encoding = \"UTF-8\"))\n",
    "\n",
    "stock_id <- readr::read_csv(\"data_example/SH_stockid_UTF8.csv\")\n",
    "head(stock_id)"
   ]
  },
  {
   "cell_type": "markdown",
   "metadata": {
    "slideshow": {
     "slide_type": "subslide"
    }
   },
   "source": [
    "\n",
    "`write.table()` or `write.csv()` exports the data in an R session to an ASCII file."
   ]
  },
  {
   "cell_type": "markdown",
   "metadata": {
    "slideshow": {
     "slide_type": "slide"
    }
   },
   "source": [
    "## Statistics\n",
    "\n",
    "* R is created by statisticians.\n",
    "\n",
    "* `p` (probability)\n",
    "* `d` (density)\n",
    "* `q` (quantile)\n",
    "* `r` (random variable generator) "
   ]
  },
  {
   "cell_type": "markdown",
   "metadata": {
    "slideshow": {
     "slide_type": "subslide"
    }
   },
   "source": [
    "* `norm` (normal)\n",
    "* `chisq` ($\\chi^2$)\n",
    "* `t` (*t*)\n",
    "* `weibull` (Weibull)\n",
    "* `cauchy` (Cauchy)\n",
    "* `binomial` (binomial)\n",
    "* `pois` (Poisson)"
   ]
  },
  {
   "cell_type": "code",
   "execution_count": null,
   "metadata": {
    "slideshow": {
     "slide_type": "slide"
    },
    "vscode": {
     "languageId": "r"
    }
   },
   "outputs": [],
   "source": [
    "pnorm(0)"
   ]
  },
  {
   "cell_type": "code",
   "execution_count": null,
   "metadata": {
    "slideshow": {
     "slide_type": "fragment"
    },
    "vscode": {
     "languageId": "r"
    }
   },
   "outputs": [],
   "source": [
    "qnorm(0.975)"
   ]
  },
  {
   "cell_type": "code",
   "execution_count": null,
   "metadata": {
    "slideshow": {
     "slide_type": "fragment"
    },
    "vscode": {
     "languageId": "r"
    }
   },
   "outputs": [],
   "source": [
    "rnorm(5)"
   ]
  },
  {
   "cell_type": "code",
   "execution_count": null,
   "metadata": {
    "slideshow": {
     "slide_type": "fragment"
    },
    "vscode": {
     "languageId": "r"
    }
   },
   "outputs": [],
   "source": [
    "dnorm(0)"
   ]
  },
  {
   "cell_type": "markdown",
   "metadata": {
    "slideshow": {
     "slide_type": "skip"
    }
   },
   "source": [
    "**Example**\n",
    "\n",
    "This example illustrates the sampling error.\n",
    "\n",
    "1. Plot the density of $\\chi^2(3)$ over an equally spaced grid system `x_axis = seq(0.01, 15, by = 0.01)` (black line).\n",
    "2. Generate 1000 observations from $\\chi^2(3)$ distribution. Plot the kernel density, a nonparametric estimation of the density (red line).\n",
    "3. Calculate the 95th quantile and the empirical probability of observing a value greater than the 95-th quantile.\n",
    "In population, this value should be 5%. What is the number in this experiment?"
   ]
  },
  {
   "cell_type": "code",
   "execution_count": null,
   "metadata": {
    "slideshow": {
     "slide_type": "skip"
    },
    "vscode": {
     "languageId": "r"
    }
   },
   "outputs": [],
   "source": [
    "set.seed(888)\n",
    "x_axis <- seq(0.01, 15, by = 0.01)\n",
    "\n",
    "y <- dchisq(x_axis, df = 3)\n",
    "plot(y = y, x = x_axis, type = \"l\", xlab = \"x\", ylab = \"density\")\n",
    "z <- rchisq(1000, df = 3)\n",
    "lines(density(z), col = \"red\")\n",
    "crit <- qchisq(.95, df = 3)\n",
    "\n",
    "mean(z > crit)\n"
   ]
  },
  {
   "cell_type": "markdown",
   "metadata": {
    "slideshow": {
     "slide_type": "slide"
    }
   },
   "source": [
    "## User-defined Function\n",
    "\n",
    "* Highly recommended to encapsulate repeated procedures into a user-defined function.\n",
    "\n",
    "1. In the developing stage, focus on a small chunk of code. More manageable.\n",
    "2. Variables defined inside a function are local.\n",
    "3. In revision, only need to change one place. "
   ]
  },
  {
   "cell_type": "markdown",
   "metadata": {
    "slideshow": {
     "slide_type": "subslide"
    }
   },
   "source": [
    "The format of a user-defined function is\n",
    "\n",
    "```\n",
    "function_name <- function(input) {\n",
    "  expressions\n",
    "  return(output)\n",
    "}\n",
    "```"
   ]
  },
  {
   "cell_type": "markdown",
   "metadata": {
    "slideshow": {
     "slide_type": "slide"
    }
   },
   "source": [
    "**Example**\n",
    "\n",
    "* 95% two-sided asymptotic confidence interval as\n",
    "$$\\left(\\hat{\\mu} - \\frac{1.96}{\\sqrt{n}} \\hat{\\sigma}, \\hat{\\mu} + \\frac{1.96}{\\sqrt{n}} \\hat{\\sigma} \\right)$$\n",
    "from a given sample.\n",
    "\n",
    "* An easy job, but no built-in function.\n"
   ]
  },
  {
   "cell_type": "code",
   "execution_count": null,
   "metadata": {
    "slideshow": {
     "slide_type": "subslide"
    },
    "vscode": {
     "languageId": "r"
    }
   },
   "outputs": [],
   "source": [
    "# construct confidence interval\n",
    "\n",
    "CI <- function(x) {\n",
    "  # x is a vector of random variables\n",
    "\n",
    "  n <- length(x)\n",
    "  mu <- mean(x)\n",
    "  sig <- sd(x)\n",
    "  upper <- mu + 1.96 / sqrt(n) * sig\n",
    "  lower <- mu - 1.96 / sqrt(n) * sig\n",
    "  return(list(lower = lower, upper = upper))\n",
    "}\n"
   ]
  },
  {
   "cell_type": "markdown",
   "metadata": {
    "slideshow": {
     "slide_type": "slide"
    }
   },
   "source": [
    "## Flow Control\n",
    "\n",
    "* Flow control is common in all programming languages.\n",
    "\n",
    "  * `if` is used for choice\n",
    "  * `for` or `while` is used for loops.\n"
   ]
  },
  {
   "cell_type": "markdown",
   "metadata": {
    "slideshow": {
     "slide_type": "slide"
    }
   },
   "source": [
    "**Example**\n",
    "\n",
    "Calculate the empirical coverage probability of a Poisson distribution of degrees of freedom 2.\n",
    "We conduct this experiment for 1000 times.\n"
   ]
  },
  {
   "cell_type": "code",
   "execution_count": null,
   "metadata": {
    "slideshow": {
     "slide_type": "subslide"
    },
    "vscode": {
     "languageId": "r"
    }
   },
   "outputs": [],
   "source": [
    "Rep <- 1000\n",
    "sample_size <- 100\n",
    "capture <- rep(0, Rep)\n",
    "\n",
    "if (sample_size < 50){\n",
    "      print(\"Sample size too small. Refuse to work\")\n",
    "      } else {\n",
    "    for (i in 1:Rep) {\n",
    "      mu <- 2\n",
    "      x <- rpois(sample_size, mu)\n",
    "      bounds <- CI(x)\n",
    "      capture[i] <- ((bounds$lower <= mu) & (mu <= bounds$upper))\n",
    "    }\n",
    "    print(\"Asymptotic theory may work\")\n",
    "    cat(\"the emprical size = \", mean(capture)) # empirical size\n",
    "}"
   ]
  },
  {
   "cell_type": "markdown",
   "metadata": {
    "slideshow": {
     "slide_type": "slide"
    }
   },
   "source": [
    "## Statistical Model\n",
    "\n",
    "* `y~x`\n",
    "  * `y`: dependent variable,\n",
    "  * `x`: explanatory variable.\n",
    "* `lm(y~x, data = data_frame)`.\n"
   ]
  },
  {
   "cell_type": "markdown",
   "metadata": {
    "slideshow": {
     "slide_type": "slide"
    }
   },
   "source": [
    "### A Linear Regression \n",
    "\n",
    "This is a toy example with simulated data."
   ]
  },
  {
   "cell_type": "code",
   "execution_count": null,
   "metadata": {
    "slideshow": {
     "slide_type": "subslide"
    },
    "vscode": {
     "languageId": "r"
    }
   },
   "outputs": [],
   "source": [
    "n <- 100\n",
    "p <- 1\n",
    "\n",
    "b0 <- 1\n",
    "# Generate data\n",
    "x <- matrix(rnorm(n * p), n, 1)\n",
    "y <- x %*% b0 + rnorm(T)\n",
    "\n",
    "# Linear Model\n",
    "result <- lm(y ~ x)\n",
    "summary(result)\n"
   ]
  },
  {
   "cell_type": "markdown",
   "metadata": {
    "slideshow": {
     "slide_type": "subslide"
    }
   },
   "source": [
    "Plot the true value of $y$ and fitted value"
   ]
  },
  {
   "cell_type": "code",
   "execution_count": null,
   "metadata": {
    "slideshow": {
     "slide_type": "fragment"
    },
    "vscode": {
     "languageId": "r"
    }
   },
   "outputs": [],
   "source": [
    "plot(result$fitted.values,\n",
    "  col = \"red\", type = \"l\", xlab = \"x\", ylab = \"y\",\n",
    "  main = \"Fitted Value\"\n",
    ")\n",
    "lines(y, col = \"blue\", type = \"l\", lty = 2)\n",
    "legend(\"bottomleft\",\n",
    "  legend = c(\"Fitted Value\", \"True Value\"),\n",
    "  col = c(\"red\", \"blue\"), lty = 1:2, cex = 0.75\n",
    ")\n"
   ]
  },
  {
   "cell_type": "markdown",
   "metadata": {
    "slideshow": {
     "slide_type": "slide"
    }
   },
   "source": [
    "\n",
    "Then we plot the best fitted line.\n"
   ]
  },
  {
   "cell_type": "code",
   "execution_count": null,
   "metadata": {
    "slideshow": {
     "slide_type": "fragment"
    },
    "vscode": {
     "languageId": "r"
    }
   },
   "outputs": [],
   "source": [
    "plot(y = y, x = x, xlab = \"x\", ylab = \"y\", main = \"Fitted Line\")\n",
    "abline(a = result$coefficients[1], b = result$coefficients[2])\n",
    "abline(a = 0, b = b0, col = \"red\")\n",
    "\n",
    "legend(\"bottomright\",\n",
    "  legend = c(\"Fitted Line\", \"True Coef\"),\n",
    "  col = c(\"black\", \"red\"), lty = c(1, 1), cex = 0.75\n",
    ")\n"
   ]
  },
  {
   "cell_type": "markdown",
   "metadata": {
    "slideshow": {
     "slide_type": "slide"
    }
   },
   "source": [
    "## Reading\n",
    "\n",
    "<!-- [Wickham and Grolemund](https://r4ds.had.co.nz/): Ch 1, 2, 4, 8, 19 and 20 -->\n",
    "* A thorough reading of [R-Introduction](https://cran.r-project.org/doc/manuals/r-release/R-intro.pdf) \n",
    "* Wickham and Grolemund](https://r4ds.had.co.nz/)\n",
    "  * Ch 4: workflow: basics\n",
    "  * Ch 6: workflow: scripts\n",
    "  * Ch 8: workflow: projects\n"
   ]
  }
 ],
 "metadata": {
  "anaconda-cloud": "",
  "celltoolbar": "Slideshow",
  "kernelspec": {
   "display_name": "R",
   "language": "R",
   "name": "ir"
  },
  "language_info": {
   "codemirror_mode": "r",
   "file_extension": ".r",
   "mimetype": "text/x-r-source",
   "name": "R",
   "pygments_lexer": "r",
   "version": "4.2.2"
  },
  "rise": {
   "enable_chalkboard": true,
   "scroll": true,
   "theme": "serif"
  },
  "vscode": {
   "interpreter": {
    "hash": "98c8651c14c5e67168ec7360df025b52a3dda054aca34605ea6bb4da8d25168e"
   }
  }
 },
 "nbformat": 4,
 "nbformat_minor": 4
}
