{
 "cells": [
  {
   "cell_type": "markdown",
   "metadata": {
    "slideshow": {
     "slide_type": "slide"
    }
   },
   "source": [
    "# Time Series Analysis\n",
    "\n",
    "Zhentao Shi\n"
   ]
  },
  {
   "cell_type": "code",
   "execution_count": null,
   "metadata": {
    "slideshow": {
     "slide_type": "slide"
    },
    "vscode": {
     "languageId": "r"
    }
   },
   "outputs": [],
   "source": [
    "library(tidyverse)\n",
    "library(zoo)"
   ]
  },
  {
   "cell_type": "markdown",
   "metadata": {
    "slideshow": {
     "slide_type": "slide"
    }
   },
   "source": [
    "* Practical topics\n",
    "* Useful in business contexts\n",
    "* Modeling choices and challenges"
   ]
  },
  {
   "cell_type": "markdown",
   "metadata": {
    "slideshow": {
     "slide_type": "subslide"
    }
   },
   "source": [
    "* Time Series Regression\n",
    "* Univariate Time Series Models\n",
    "* Nonstationary Time Series\n",
    "* Multivariate Time Series"
   ]
  },
  {
   "cell_type": "markdown",
   "metadata": {
    "slideshow": {
     "slide_type": "subslide"
    }
   },
   "source": [
    "* Traditionally, small models\n",
    "* High dimensional time series modeling is work in progress\n",
    "* Predictive regression"
   ]
  },
  {
   "cell_type": "markdown",
   "metadata": {
    "slideshow": {
     "slide_type": "slide"
    }
   },
   "source": [
    "### Stationary Time Series\n",
    "\n",
    "For a univariate time series $(y_t)_{t= - \\infty} ^ {\\infty}$,\n",
    "* **Strictly stationary**: joint distribution of any finite coordinate only depends on their relative position.\n",
    "* **Weakly stationary**: the first two moments of any pair $y_t$ and $y_s$ only depends on their relative position.\n",
    "    * $E[y_t] = \\mu$ for all $t$\n",
    "    * $\\mathrm{var}[y_t] = \\sigma^2$ for all $t$\n",
    "    * $\\mathrm{cov}[y_t, y_{t+\\tau} ] $ only depends on $\\tau$ independent of $t$"
   ]
  },
  {
   "cell_type": "markdown",
   "metadata": {
    "slideshow": {
     "slide_type": "subslide"
    }
   },
   "source": [
    "\n",
    "This notions can be extended to multiple-variate time series, for example $(y_t, x_t, e_t)$."
   ]
  },
  {
   "cell_type": "markdown",
   "metadata": {
    "slideshow": {
     "slide_type": "slide"
    }
   },
   "source": [
    "### Two Operations\n",
    "\n",
    "* Lag Operator\n",
    "\n",
    "$$L x_t = x_{t-1}$$\n",
    "$$L^{\\tau} x_t = x_{t-\\tau}$$ \n",
    "\n",
    "* Difference operator\n",
    "$$\\Delta x_t = x_t - x_{t-1} = (1-L) x_t$$"
   ]
  },
  {
   "cell_type": "markdown",
   "metadata": {
    "slideshow": {
     "slide_type": "slide"
    }
   },
   "source": [
    "### Distributed Lags\n",
    "\n",
    "* Lagged $x$ on the right-hand side\n",
    "\n",
    "$$\n",
    "y_t = \\alpha + \\sum_{i=0}^{\\infty} \\beta_i  x_{t-i} + e_t = \\alpha + B(L) x_t + e_t \n",
    "$$\n",
    "\n",
    "where $$B(L) = \\sum_{i=0}^{\\infty} \\beta_i L^i$$ is a polynomial of the lag operators."
   ]
  },
  {
   "cell_type": "markdown",
   "metadata": {
    "slideshow": {
     "slide_type": "slide"
    }
   },
   "source": [
    "## Autoregressive model\n",
    "\n",
    "* Lagged $y$ on the right-hand side\n",
    "\n",
    "$$\n",
    "y_t = \\alpha + \\sum_{i=1}^p \\gamma_p y_{t-p} + e_t \n",
    "$$ \n",
    "\n",
    "can be written as \n",
    "$\n",
    "C(L) y_t = \\alpha + e_t\n",
    "$\n",
    "where \n",
    "$\n",
    "C(L) = 1 -\\gamma_1 L - \\cdots - \\gamma_p L^p\n",
    "$\n",
    "is a polynomial of the lag operators."
   ]
  },
  {
   "attachments": {},
   "cell_type": "markdown",
   "metadata": {
    "slideshow": {
     "slide_type": "slide"
    }
   },
   "source": [
    "## Invertibility\n",
    "\n",
    "If the roots of the polynomial equation $C(z) = 0$ **all** lies **outside** of the unit circle, we say the autoregressive model is invertible.\n",
    "\n",
    "\n",
    "\n",
    "If $e_t$ is stationary with finite variance and $\\alpha=0$ (homogenous difference equation):\n",
    "* If the module of the smallest root is bigger than 1, $y_t$ is a stationary time series\n",
    "* If the module of the smallest root is equal to 1, $y_t$ is a **unit root** process\n",
    "* If the module of the smallest root is smaller than 1, $y_t$ is an **explosive** process"
   ]
  },
  {
   "cell_type": "markdown",
   "metadata": {
    "slideshow": {
     "slide_type": "slide"
    }
   },
   "source": [
    "\n",
    "### Numerical Example\n",
    "\n",
    "* $C(L) = 1 - 0.5L$ is invertible.\n",
    "* $C(L) = 1 - L$ is non-invertible.\n",
    "* $C(L) = 1 - 1.1L$ is non-invertible."
   ]
  },
  {
   "cell_type": "code",
   "execution_count": null,
   "metadata": {
    "slideshow": {
     "slide_type": "fragment"
    },
    "vscode": {
     "languageId": "r"
    }
   },
   "outputs": [],
   "source": [
    "AR = function(b,T){\n",
    "    y = rep(0,T)\n",
    "    for (t in 1:T){\n",
    "        if (t > 1) {\n",
    "            y[t] = b * y[t - 1] + rnorm(1)\n",
    "        }\n",
    "    }\n",
    "    return(ts(y) )\n",
    "}"
   ]
  },
  {
   "cell_type": "code",
   "execution_count": null,
   "metadata": {
    "slideshow": {
     "slide_type": "subslide"
    },
    "vscode": {
     "languageId": "r"
    }
   },
   "outputs": [],
   "source": [
    "T = 100; plot( x = 1:T, y = AR(0.9, T), type = \"l\")"
   ]
  },
  {
   "cell_type": "code",
   "execution_count": null,
   "metadata": {
    "scrolled": false,
    "slideshow": {
     "slide_type": "subslide"
    },
    "vscode": {
     "languageId": "r"
    }
   },
   "outputs": [],
   "source": [
    "T = 100; plot( x = 1:T, y = AR(1.0, T), type = \"l\")"
   ]
  },
  {
   "cell_type": "code",
   "execution_count": null,
   "metadata": {
    "scrolled": false,
    "slideshow": {
     "slide_type": "subslide"
    },
    "vscode": {
     "languageId": "r"
    }
   },
   "outputs": [],
   "source": [
    "T = 100; plot( x = 1:T, y = AR(1.05,T), type = \"l\")"
   ]
  },
  {
   "cell_type": "markdown",
   "metadata": {
    "slideshow": {
     "slide_type": "slide"
    }
   },
   "source": [
    "### Autoregressive Distributed Lag Models\n",
    "\n",
    "\n",
    "* ARDL(p,r) model:\n",
    "\n",
    "$$\n",
    "C(L) y_t = \\mu + B(L) x_t + e_t \n",
    "$$ \n",
    "\n",
    "where \n",
    "$\n",
    "C(L) = 1 -\\gamma_1 L - \\cdots - \\gamma_p L^p\n",
    "$\n",
    "and \n",
    "$\n",
    "B(L) =  \\beta_0 + \\beta_1 L + \\cdots + \\beta_r L^r.\n",
    "$\n",
    "\n",
    "* **Granger causality**: \n",
    "\n",
    "$$\n",
    "\\beta_0 = \\beta_1 = \\cdots = \\beta_r = 0\n",
    "$$"
   ]
  },
  {
   "cell_type": "markdown",
   "metadata": {
    "slideshow": {
     "slide_type": "slide"
    }
   },
   "source": [
    "### Example\n",
    "\n",
    "* In simple regression form\n",
    "\n",
    "$$\n",
    "y_t = \\beta_1 + \\beta_2 x_t + \\beta_3 x_{t-1} + \\gamma y_{t-1} + e_t\n",
    "$$\n",
    "\n",
    "* Temporal lags of effect. eg: policy lag\n",
    "* Expectation formed from the past. eg: forecast\n",
    "* Explicitly depends on history. eg: wealth accumulation\n"
   ]
  },
  {
   "cell_type": "code",
   "execution_count": null,
   "metadata": {
    "scrolled": false,
    "slideshow": {
     "slide_type": "subslide"
    },
    "vscode": {
     "languageId": "r"
    }
   },
   "outputs": [],
   "source": [
    "quantmod::getSymbols.FRED(Symbols = \"POILBREUSDQ\", env = .GlobalEnv) # Brent Oil price\n",
    "quantmod::getSymbols.FRED(Symbols = \"IPB50001SQ\", env = .GlobalEnv) # industrial Index (quarterly data)\n",
    "\n",
    "d0<- merge(POILBREUSDQ, IPB50001SQ, retclass = \"data.frame\") %>% \n",
    "  dplyr::filter(!is.na(POILBREUSDQ)) %>%\n",
    "  mutate( x = ts(POILBREUSDQ), y = ts(IPB50001SQ))\n",
    "\n",
    "rm(POILBREUSDQ, IPB50001SQ)\n",
    "print(head(d0))\n"
   ]
  },
  {
   "cell_type": "code",
   "execution_count": null,
   "metadata": {
    "scrolled": true,
    "slideshow": {
     "slide_type": "subslide"
    },
    "vscode": {
     "languageId": "r"
    }
   },
   "outputs": [],
   "source": [
    "matplot(y = d0, \n",
    "        x = as.Date(row.names(d0), \"%Y-%m-%d\"), \n",
    "        main = \"\", type = \"l\", xlab = \"year\")"
   ]
  },
  {
   "cell_type": "markdown",
   "metadata": {
    "slideshow": {
     "slide_type": "subslide"
    }
   },
   "source": [
    "### ARDL(1,1) regression example\n",
    "\n",
    "* `dynlm` only works with objects `ts()`. The transformation is essential"
   ]
  },
  {
   "cell_type": "code",
   "execution_count": null,
   "metadata": {
    "scrolled": true,
    "slideshow": {
     "slide_type": "fragment"
    },
    "vscode": {
     "languageId": "r"
    }
   },
   "outputs": [],
   "source": [
    "dynlm::dynlm( y ~ L(y, 1:3 ) + L(x,c(1, 12) ), data = d0 )  %>%\n",
    "      summary( )"
   ]
  },
  {
   "cell_type": "markdown",
   "metadata": {
    "slideshow": {
     "slide_type": "subslide"
    }
   },
   "source": [
    "* Differenced dependent variable (`d( )`)"
   ]
  },
  {
   "cell_type": "code",
   "execution_count": null,
   "metadata": {
    "scrolled": true,
    "slideshow": {
     "slide_type": "fragment"
    },
    "vscode": {
     "languageId": "r"
    }
   },
   "outputs": [],
   "source": [
    "dynlm::dynlm( d(y) ~ L(y, c(1) ) + L(d(x),c(0:1) ), data = d0 )  %>%\n",
    "      summary( )"
   ]
  },
  {
   "attachments": {},
   "cell_type": "markdown",
   "metadata": {
    "slideshow": {
     "slide_type": "slide"
    }
   },
   "source": [
    "## Spurious Regression\n",
    "\n",
    "\n",
    "* The two time series $\\{y_t\\}$ and $\\{x_t\\}$ are generated independently, so that $E[y_t|x_t] = 0$. \n",
    "* However, we observe a high $R^2$ and large t-value if we regression $y_t$ against $x_t$.\n"
   ]
  },
  {
   "cell_type": "code",
   "execution_count": null,
   "metadata": {
    "scrolled": false,
    "slideshow": {
     "slide_type": "subslide"
    },
    "vscode": {
     "languageId": "r"
    }
   },
   "outputs": [],
   "source": [
    "T = 50\n",
    "a = 1\n",
    "\n",
    "y <- AR(a, T)\n",
    "x <- AR(a, T)\n",
    "matplot( cbind(y, x), type = \"l\", ylab = \"\" )"
   ]
  },
  {
   "cell_type": "code",
   "execution_count": null,
   "metadata": {
    "scrolled": true,
    "slideshow": {
     "slide_type": "subslide"
    },
    "vscode": {
     "languageId": "r"
    }
   },
   "outputs": [],
   "source": [
    "reg <- lm(y ~ x)\n",
    "summary(reg)"
   ]
  },
  {
   "cell_type": "markdown",
   "metadata": {
    "slideshow": {
     "slide_type": "slide"
    }
   },
   "source": [
    "### Discovery\n",
    "\n",
    "* Granger and Newbold (1974): If we naively use 1.96 as the critical value for the $t$-ratio, how often we would reject the null hypothesis that $\\beta = 0$?  \n",
    "\n",
    "* The nominal asymptotic test size is $5\\%$ according to the standard asymptotic theory\n",
    "* The empirical size is about 0.80 in this simulation\n",
    "* The drastic deviation suggests that the standard asymptotic theory fails in the nonstationary environment\n"
   ]
  },
  {
   "cell_type": "code",
   "execution_count": null,
   "metadata": {
    "slideshow": {
     "slide_type": "subslide"
    },
    "vscode": {
     "languageId": "r"
    }
   },
   "outputs": [],
   "source": [
    "spurious <- function(i, a, T){\n",
    "    y <- AR(a, T)\n",
    "    x <- AR(a, T)\n",
    "    \n",
    "    reg <- lm(y ~ x)\n",
    "    p.val <- summary(reg)[[4]][2,4]\n",
    "    # save the p-value of the estimate of x's coefficient\n",
    "    return(p.val)\n",
    "}\n",
    "\n",
    "out <- plyr::ldply(.data = 1:1000, .fun = spurious, a = 1.0 , T = 1000)\n",
    "print( mean(out < 0.05) )"
   ]
  },
  {
   "cell_type": "markdown",
   "metadata": {
    "slideshow": {
     "slide_type": "slide"
    }
   },
   "source": [
    "### Autoregression and Moving Average\n",
    "\n",
    "* Box-Jenkins (1976): ARMA\n",
    "* No economic theory. For fitting and prediction only."
   ]
  },
  {
   "cell_type": "markdown",
   "metadata": {
    "slideshow": {
     "slide_type": "fragment"
    }
   },
   "source": [
    "* Building block: **White noise**\n",
    "    * $E[e_t] = 0$, $E[e_t^2] = \\sigma_e^2$, and $E[e_t, e_s] = 0$ for all $t\\neq s$. "
   ]
  },
  {
   "cell_type": "markdown",
   "metadata": {
    "slideshow": {
     "slide_type": "slide"
    }
   },
   "source": [
    "## ARMA\n",
    "\n",
    "\n",
    "* AR(p): \n",
    "$\n",
    "y_t = \\mu + \\gamma_1 y_{t-1} + \\cdots +\\gamma_p y_{t-p} + e_t\n",
    "$\n",
    "\n",
    "* MA(q):\n",
    "$\n",
    "y_t = \\mu + e_t + \\theta_1 e_{t-1} +  \\cdots + \\theta_q e_{t-q}\n",
    "$\n",
    "\n",
    "* ARMA(p,q):\n",
    "$\n",
    "(1-\\Gamma(L) ) y_t = \\mu + \\Theta (L) e_t\n",
    "$\n",
    "\n",
    "Stationarity: in AR form whether all roots lies out of the unit cycle."
   ]
  },
  {
   "cell_type": "markdown",
   "metadata": {
    "slideshow": {
     "slide_type": "subslide"
    }
   },
   "source": [
    "### Autocorrelation Patterns\n",
    "\n",
    "\n",
    "* MA(q): finite dependence\n",
    "* AR(1): geometric decline\n",
    "    * $E[ y_t ] = \\mu / (1-\\gamma_1)$\n",
    "    * $\\mathrm{var}[y_t] = \\sigma_e^2 / (1-\\gamma_1^2 )$\n",
    "    * $E[ y_t | y_{t-1} ] = \\mu + \\gamma_1 y_{t-1}$\n",
    "    * $\\mathrm{var}[y_t | y_{t-1} ] = \\sigma_e^2 $\n",
    "    \n"
   ]
  },
  {
   "cell_type": "markdown",
   "metadata": {
    "slideshow": {
     "slide_type": "slide"
    }
   },
   "source": [
    "### Modeling\n",
    "\n",
    "* ARIMA(p, r, q) $$(1-\\Gamma(L) ) \\Delta^r y_t = \\mu + \\Theta (L) e_t$$\n",
    "* Transform into stationary time series by taking logarithm and/or difference.\n",
    "* Fit ARMA(p,q)"
   ]
  },
  {
   "cell_type": "code",
   "execution_count": null,
   "metadata": {
    "slideshow": {
     "slide_type": "slide"
    },
    "vscode": {
     "languageId": "r"
    }
   },
   "outputs": [],
   "source": [
    "reg1 <- arima(d0$x, order  = c(2,0, 3) )# arima(2,0,3)\n",
    "print(reg1)\n",
    "summary(reg1)"
   ]
  },
  {
   "cell_type": "code",
   "execution_count": null,
   "metadata": {
    "slideshow": {
     "slide_type": "subslide"
    },
    "vscode": {
     "languageId": "r"
    }
   },
   "outputs": [],
   "source": [
    "reg2 <- arima(d0$x, order  = c(2,1,3) ) # arima(2,1,3)\n",
    "print(reg2$coef )"
   ]
  },
  {
   "cell_type": "markdown",
   "metadata": {
    "slideshow": {
     "slide_type": "slide"
    }
   },
   "source": [
    "### Seasonality\n",
    "\n",
    "* Generated due to sampling frequency\n",
    "  * [Traffic data](https://www.kaggle.com/datasets/fedesoriano/traffic-prediction-dataset)\n",
    "  * [Electronic consumption](https://www.kaggle.com/datasets/utathya/electricity-consumption)\n",
    "* Add dummies to control seasonality"
   ]
  },
  {
   "cell_type": "markdown",
   "metadata": {
    "slideshow": {
     "slide_type": "slide"
    }
   },
   "source": [
    "### Estimation\n",
    "\n",
    "* MLE for MA(q)\n",
    "* MLE for ARMA(p,q)\n",
    "* OLS for AR(p)"
   ]
  },
  {
   "cell_type": "markdown",
   "metadata": {
    "slideshow": {
     "slide_type": "slide"
    }
   },
   "source": [
    "### Information criteria. \n",
    "\n",
    "Let $k$ be the total number of slope coefficient in the model.\n",
    "\n",
    "* Akaike information criterion: $\\log( \\hat{\\sigma}^2 ) + 2\\times (k / T )$. \n",
    "    * Tend to overfit, but better for prediction\n",
    "* Bayesian information criterion: $\\log( \\hat{\\sigma}^2 ) + \\log(T) \\times (k / T )$\n",
    "    * Model selection consistent"
   ]
  },
  {
   "cell_type": "markdown",
   "metadata": {
    "slideshow": {
     "slide_type": "fragment"
    }
   },
   "source": [
    "    \n",
    "* Information criteria are not restricted to time series regressions. \n",
    "* They are general statistical measures for model/variable selection."
   ]
  },
  {
   "cell_type": "code",
   "execution_count": null,
   "metadata": {
    "slideshow": {
     "slide_type": "subslide"
    },
    "vscode": {
     "languageId": "r"
    }
   },
   "outputs": [],
   "source": [
    "print( reg1$aic )\n",
    "print( reg2$aic )"
   ]
  },
  {
   "cell_type": "markdown",
   "metadata": {
    "slideshow": {
     "slide_type": "slide"
    }
   },
   "source": [
    "## Unit Root\n",
    "\n",
    "* AR(1) with AR coefficient equals 1. $$y_t = \\mu + y_{t-1} + e_t $$\n",
    "* Nonstationary\n",
    "* Brownian motion: normal innovation\n",
    "* Random walk"
   ]
  },
  {
   "cell_type": "markdown",
   "metadata": {
    "slideshow": {
     "slide_type": "slide"
    }
   },
   "source": [
    "### Implication\n",
    "* conditional and unconditional mean\n",
    "* conditional and unconditional variance\n",
    "* $h$-period ahead forecast"
   ]
  },
  {
   "cell_type": "markdown",
   "metadata": {
    "slideshow": {
     "slide_type": "slide"
    }
   },
   "source": [
    "### Distribution\n",
    "\n",
    "The OLS estimator \n",
    "\n",
    "$$\n",
    "T(\\hat{\\gamma}_1 - 1) \\stackrel{d}{\\to} \\text{ a stable distribution}.\n",
    "$$\n",
    "\n",
    "but the asymptotic distribution is not normal. "
   ]
  },
  {
   "cell_type": "code",
   "execution_count": null,
   "metadata": {
    "slideshow": {
     "slide_type": "slide"
    },
    "vscode": {
     "languageId": "r"
    }
   },
   "outputs": [],
   "source": [
    "library(quantmod, quietly = TRUE)\n",
    "getSymbols(\"^GSPC\") # S&P 500\n",
    "\n",
    "y = GSPC$GSPC.Close\n",
    "plot(y, type = \"l\")\n",
    "\n",
    "tail(y)"
   ]
  },
  {
   "cell_type": "markdown",
   "metadata": {
    "slideshow": {
     "slide_type": "slide"
    }
   },
   "source": [
    "### Hypothesis Testing\n",
    "\n",
    "* Null hypothesis: unit root.\n",
    "$$ \\Delta y_t = \\mu + (\\gamma_1 - 1 ) y_{t-1} + e_t = \\mu+ \\theta y_{t-1} + e_t$$\n",
    "where $ \\theta = \\gamma_1 - 1 $. Under the null, $\\theta = 0$.\n",
    "\n",
    "* The $t$-statistic is the test statistic for the Dicky-Fuller test.\n",
    "* Under the null, the $t$-statistic asymptotically follows a pivotal distribution.\n"
   ]
  },
  {
   "cell_type": "markdown",
   "metadata": {
    "slideshow": {
     "slide_type": "slide"
    }
   },
   "source": [
    "### Numerical Example\n",
    "\n",
    "\n",
    "* In this numerical example, the test does not reject the null.\n",
    "\n",
    "Notice: the test is one-sided."
   ]
  },
  {
   "cell_type": "code",
   "execution_count": null,
   "metadata": {
    "slideshow": {
     "slide_type": "fragment"
    },
    "vscode": {
     "languageId": "r"
    }
   },
   "outputs": [],
   "source": [
    "library(urca) # package for unit root and cointegration\n",
    "print( summary(ur.df(y, type = \"drift\", lags = 0) ) ) # y here is the S&P 500 index\n",
    "# the test does not reject the null of \"unit root\"\n",
    "# loosely speaking, it is evidence in support of random walk"
   ]
  },
  {
   "cell_type": "code",
   "execution_count": null,
   "metadata": {
    "slideshow": {
     "slide_type": "slide"
    },
    "vscode": {
     "languageId": "r"
    }
   },
   "outputs": [],
   "source": [
    "y = arima.sim( model = list(ar =.8), n = 100)\n",
    "plot(y)\n"
   ]
  },
  {
   "cell_type": "code",
   "execution_count": null,
   "metadata": {
    "slideshow": {
     "slide_type": "slide"
    },
    "vscode": {
     "languageId": "r"
    }
   },
   "outputs": [],
   "source": [
    "summary( urca::ur.df( y, type = \"none\", selectlags = \"AIC\" ) ) "
   ]
  },
  {
   "cell_type": "markdown",
   "metadata": {
    "slideshow": {
     "slide_type": "slide"
    }
   },
   "source": [
    "### Simulation Dicky-Fuller Distribution"
   ]
  },
  {
   "cell_type": "code",
   "execution_count": null,
   "metadata": {
    "slideshow": {
     "slide_type": "fragment"
    },
    "vscode": {
     "languageId": "r"
    }
   },
   "outputs": [],
   "source": [
    "library(dynlm)\n",
    "\n",
    "DF.sim = function(ar){\n",
    "  Rep = 500\n",
    "  n = 100\n",
    "  \n",
    "  B.hat = rep(0, Rep)\n",
    "  \n",
    "  for (r in 1:Rep){\n",
    "    if (ar < 1) {\n",
    "      y = arima.sim( model = list(ar = ar), n = n)\n",
    "    } else if (ar == 1){\n",
    "      y = ts( cumsum( rnorm(n) ) )\n",
    "    }\n",
    "    reg.dyn = dynlm( y ~ L(y,1) )\n",
    "    B.hat[r] = coef(reg.dyn)[2]\n",
    "  }\n",
    "  return(B.hat)\n",
    "  print(\"simulation is done with ar = \", ar, \"\\n\")\n",
    "}"
   ]
  },
  {
   "cell_type": "code",
   "execution_count": null,
   "metadata": {
    "slideshow": {
     "slide_type": "subslide"
    },
    "vscode": {
     "languageId": "r"
    }
   },
   "outputs": [],
   "source": [
    "B = DF.sim(1)\n",
    "plot(density(B), col = \"red\", xlim = c(0, 1.1))\n",
    "\n",
    "B = DF.sim(0.5)\n",
    "lines(density(B), col = \"blue\")\n",
    "\n",
    "B = DF.sim(0.9)\n",
    "lines( density(B), col = \"purple\" )"
   ]
  },
  {
   "cell_type": "markdown",
   "metadata": {
    "slideshow": {
     "slide_type": "slide"
    }
   },
   "source": [
    "## Specification of DF test\n",
    "\n",
    "* The error term must be a white noise for the DF distribution\n",
    "* DF test's critical values vary with the specfication of drift and/or trend\n",
    "* Augmented Dicky-Fuller test: add more differenced lag terms"
   ]
  },
  {
   "cell_type": "markdown",
   "metadata": {
    "slideshow": {
     "slide_type": "slide"
    }
   },
   "source": [
    "## Other tests\n",
    "* Phillips-Perron test\n",
    "* KPSS test"
   ]
  },
  {
   "cell_type": "code",
   "execution_count": null,
   "metadata": {
    "scrolled": true,
    "slideshow": {
     "slide_type": "fragment"
    },
    "vscode": {
     "languageId": "r"
    }
   },
   "outputs": [],
   "source": [
    "summary( urca::ur.pp( y ) )"
   ]
  },
  {
   "cell_type": "code",
   "execution_count": null,
   "metadata": {
    "scrolled": false,
    "slideshow": {
     "slide_type": "fragment"
    },
    "vscode": {
     "languageId": "r"
    }
   },
   "outputs": [],
   "source": [
    "summary( urca::ur.kpss( y ) )"
   ]
  },
  {
   "cell_type": "markdown",
   "metadata": {
    "slideshow": {
     "slide_type": "skip"
    }
   },
   "source": [
    "## Time Series Filtering\n",
    "\n",
    "**Hodrick-Prescott filter**: Decompose a time series into *trend* and *cycle*\n",
    "\n",
    "$$\\hat{f}_{t}=\\arg \\min_{f_{t}}\\left\\{ \\sum_{t=1}^{n}\\left( y_{t}-f_{t}\\right)^{2}+\\lambda \\sum_{t=3}^{n}\\left( \\Delta ^{2}f_{t}\\right) ^{2}\\right\\}.$$\n",
    "    \n",
    "* The original paper (Hodrick Prescott, 1980, 1997) suggest $\\lambda = 1600$ for quarterly data.\n",
    "* $\\lambda = 1600$ is also the base of adjustment for different time series data frequency."
   ]
  },
  {
   "cell_type": "markdown",
   "metadata": {
    "slideshow": {
     "slide_type": "skip"
    }
   },
   "source": [
    "* Phillips and Shi (2021)\n",
    "* Mei, Phillips and Shi (2023)"
   ]
  },
  {
   "cell_type": "code",
   "execution_count": null,
   "metadata": {
    "slideshow": {
     "slide_type": "slide"
    },
    "vscode": {
     "languageId": "r"
    }
   },
   "outputs": [],
   "source": [
    "library(mFilter)\n",
    "data(unemp)\n",
    "\n",
    "unemp.hp <- hpfilter(unemp)\n",
    "plot(unemp.hp)"
   ]
  },
  {
   "attachments": {},
   "cell_type": "markdown",
   "metadata": {
    "slideshow": {
     "slide_type": "slide"
    }
   },
   "source": [
    "## Cointegration\n",
    "\n",
    "In a regression\n",
    "$$y_t = \\beta x_t  + e_t$$\n",
    "\n",
    "* If $y_t$ and $x_t$ are I(1) series\n",
    "* But a linear combination $e_t = y_t - \\beta x_t $ is I(0)\n",
    "\n",
    "then we say $y_t$ and $x_t$ are cointegrated."
   ]
  },
  {
   "cell_type": "code",
   "execution_count": null,
   "metadata": {
    "slideshow": {
     "slide_type": "slide"
    },
    "vscode": {
     "languageId": "r"
    }
   },
   "outputs": [],
   "source": [
    "BTC <- quantmod::getSymbols(\"BTC-USD\",auto.assign = FALSE, from = \"2021-07-01\")[,4]\n",
    "plot(BTC)\n",
    "\n",
    "ETH <- quantmod::getSymbols(\"ETH-USD\",auto.assign = FALSE, from = \"2021-07-01\")[,4]\n",
    "plot(ETH)\n",
    "\n",
    "plot( x = as.vector(ETH), y = as.vector(BTC), type = \"l\")"
   ]
  },
  {
   "cell_type": "code",
   "execution_count": null,
   "metadata": {
    "slideshow": {
     "slide_type": "subslide"
    },
    "vscode": {
     "languageId": "r"
    }
   },
   "outputs": [],
   "source": [
    "BTC <- as.vector(BTC)\n",
    "ETH <- as.vector(ETH)\n",
    "\n",
    "reg <- lm(BTC ~ -1 + ETH)\n",
    "plot(residuals(reg), type = \"l\")\n",
    "abline( h = 0, lty = 2)"
   ]
  },
  {
   "cell_type": "code",
   "execution_count": null,
   "metadata": {
    "slideshow": {
     "slide_type": "subslide"
    },
    "vscode": {
     "languageId": "r"
    }
   },
   "outputs": [],
   "source": [
    " urca::ur.df( residuals(reg), type = \"none\", selectlags = \"AIC\" )  %>% summary()"
   ]
  },
  {
   "cell_type": "markdown",
   "metadata": {
    "slideshow": {
     "slide_type": "slide"
    }
   },
   "source": [
    "### Source of Cointegration\n",
    "\n",
    "Common shock is the source of cointegration\n",
    "\n",
    "For example, if $y_{1t} = \\mu_1 + \\beta_1 t + e_{1t}$ and $y_{2t} = \\mu_2 + \\beta_2 t + e_{2t}$, where $e_{1t}$ and $e_{2t}$ are two white noises, then the cointegration vector must be $(1,\\theta)$ where $$\\theta = - \\beta_1 / \\beta_2.$$ The first coefficient 1 in this cointegration vector is for normalization.\n",
    "\n",
    "* In this example, the common trend is a determistic one. \n",
    "* In other examples, they can also share a stochastic trend."
   ]
  },
  {
   "cell_type": "markdown",
   "metadata": {
    "slideshow": {
     "slide_type": "slide"
    }
   },
   "source": [
    "## Definitions\n",
    "\n",
    "More generally, for an $m$-vector $y_t$ is cointegrated if there exists a parameter vector $\\gamma$ (normalize the first element to be 1) such that $y_t ' \\gamma$ is I(0).\n",
    "\n"
   ]
  },
  {
   "cell_type": "markdown",
   "metadata": {
    "slideshow": {
     "slide_type": "fragment"
    }
   },
   "source": [
    "* The number of linear independent cointegrated vectors is called the **cointegration rank**. \n",
    "  * Cointegration rank arranges from 1 to $m-1$."
   ]
  },
  {
   "attachments": {},
   "cell_type": "markdown",
   "metadata": {
    "slideshow": {
     "slide_type": "slide"
    }
   },
   "source": [
    "## Error Correction Model\n",
    "\n",
    "* Consider an ARDL(1,1) model\n",
    "\n",
    "$$ \n",
    "y_t  = \\mu + \\beta_0 x_t + \\beta_1 x_{t-1} + \\gamma_1 y_{t-1} + e_t. \n",
    "$$\n",
    "\n",
    "* If $\\beta_0 = \\beta_1 = 0$, no **Granger causality** between $X$ and $Y$.\n",
    "* Granger causality is a linear predictive relationship"
   ]
  },
  {
   "cell_type": "markdown",
   "metadata": {
    "slideshow": {
     "slide_type": "slide"
    }
   },
   "source": [
    "### Reformulation\n",
    "\n",
    "* When $X$ and $Y$ are both nonstationary, standard OLS inference is invalid. \n",
    "\n",
    "* Subtract $y_{t-1}$ from both sides of \n",
    "\n",
    "$$\n",
    "\\begin{align*}\n",
    "\\Delta y_t & = \\mu + \\beta_0 x_t + \\beta_1 x_{t-1} + (\\gamma_1 -1 ) y_{t-1} + e_t  \\\\\n",
    "           & = \\mu + \\beta_0 \\Delta x_t + (\\beta_1 + \\beta_0) x_{t-1} + (\\gamma_1 -1 ) y_{t-1} + e_t  \\\\\n",
    "           & = \\mu + \\beta_0 \\Delta x_t + (\\gamma_1 -1 )( y_{t-1} - \\theta x_{t-1} ) + e_t  \n",
    "\\end{align*}\n",
    "$$\n",
    "\n",
    "where $\\theta =  (\\beta_1 + \\beta_0)/(1 - \\gamma_1)$."
   ]
  },
  {
   "cell_type": "markdown",
   "metadata": {
    "slideshow": {
     "slide_type": "subslide"
    }
   },
   "source": [
    "* A short-run relationship $\\Delta y_t \\sim \\mu + \\beta_0 \\Delta x_t + e_t$.\n",
    "* An long-run equilibrium error $(\\gamma_1 - 1 ) (y_{t-1} - \\theta x_{t-1} ) $\n",
    "  * Corrects the error term the differenced regression to maintain $\\beta_0$"
   ]
  },
  {
   "cell_type": "markdown",
   "metadata": {
    "slideshow": {
     "slide_type": "subslide"
    }
   },
   "source": [
    "ECM is useful when $y_t$ is nonstationary\n",
    "\n",
    "\n",
    "* First difference recovers stationarity\n",
    "* Identify spurious regression (when $\\beta_0 = 0$)\n",
    "* ECM can be estimated either by \n",
    "  * OLS or NLS (constraints among parameters)\n",
    "  * MLE"
   ]
  },
  {
   "cell_type": "markdown",
   "metadata": {
    "slideshow": {
     "slide_type": "slide"
    }
   },
   "source": [
    "## Predictive Regression\n",
    "\n",
    "In the regression \n",
    "\n",
    "$$\n",
    "y_t = \\mu_y + \\beta_1 x_{t-1} + e_{yt}\n",
    "$$\n",
    "\n",
    "* $y_t$ is can be stationary (finance) or nonstationary (macroeconomics)\n",
    "* The predictor $x_t$ is highly persistent:\n",
    "\n",
    "$$\n",
    "x_t = \\mu_x + \\gamma x_{t-1} + e_{xt}\n",
    "$$ \n",
    "\n",
    "with $\\gamma$ is close to 1."
   ]
  },
  {
   "cell_type": "markdown",
   "metadata": {
    "slideshow": {
     "slide_type": "slide"
    }
   },
   "source": [
    "* Even if $E[e_{yt} | x_{t-1} ] = 0$, OLS estimator of $\\beta_1$ is biased in finite sample when $e_{yt}$ and $e_{xt}$ are correlated (Stambaugh, 1999)."
   ]
  },
  {
   "cell_type": "markdown",
   "metadata": {
    "slideshow": {
     "slide_type": "slide"
    }
   },
   "source": [
    "* Welch and Goyal: \"[A Comprehensive Look at the Empirical Performance of Equity Premium Prediction](https://drive.google.com/file/d/1uvjBJ9D09T0_sp7kQppWpD-xelJ0KQhc/view)\", ([dataset](https://docs.google.com/spreadsheets/d/1OArfD2Wv9IvGoLkJ8JyoXS0YMQLDZfY2/edit?usp=sharing&ouid=113571510202500088860&rtpof=true&sd=true))"
   ]
  },
  {
   "cell_type": "markdown",
   "metadata": {
    "slideshow": {
     "slide_type": "skip"
    }
   },
   "source": [
    "* Lee, Shi and Gao (2022)\n",
    "* Find new behavior of popular machine learning methods in predictive regression."
   ]
  },
  {
   "cell_type": "code",
   "execution_count": null,
   "metadata": {
    "vscode": {
     "languageId": "r"
    }
   },
   "outputs": [],
   "source": [
    "d0 <- readr::read_csv(\"data_example/PredictorData2021.csv\") %>%\n",
    "          filter(yyyymm > 196000) %>%\n",
    "          select(c(1:2, 5:6, 9:10, 12:16, 11)\n",
    "          )\n",
    "# we will not demonstrate the predictive regression here\n",
    "# we will use this dataset to demonstrate VAR          "
   ]
  },
  {
   "cell_type": "markdown",
   "metadata": {
    "slideshow": {
     "slide_type": "slide"
    }
   },
   "source": [
    "## Vector Autoregression (VAR)\n",
    "\n",
    "* Christopher Sims (Nobel Prize 2011)\n",
    "\n",
    "* An $m$-equation system\n",
    "$y_t = \\mu + \\Gamma_1 y_{t-1} + \\cdots + \\Gamma_p y_{t-p} + v_t$\n",
    "where $E[ v_t v_t'] = \\Omega$.\n",
    "\n",
    "For prediction purpose, as a reduced-form of structural simultaneous equations."
   ]
  },
  {
   "cell_type": "markdown",
   "metadata": {
    "slideshow": {
     "slide_type": "fragment"
    }
   },
   "source": [
    "* For consistency and asymptotic normality, use OLS equation by equation\n",
    "* For asymptotic efficient, use multiple-equation GLS\n",
    "\n"
   ]
  },
  {
   "cell_type": "markdown",
   "metadata": {
    "slideshow": {
     "slide_type": "slide"
    }
   },
   "source": [
    "## Invertibility\n",
    "\n",
    "Write the VAR(p) as\n",
    "$$ (I_m - \\Gamma (L) ) y_t = \\mu + v_t $$ \n",
    "where $\\Gamma(z) = \\Gamma_1 z + \\cdots + \\Gamma_p z^p$. \n",
    "\n",
    "Stable means that all roots of the $p$th order polynomial equation $$ I_m - \\Gamma(z)  = 0_m $$ lies out of the unit circle."
   ]
  },
  {
   "cell_type": "markdown",
   "metadata": {
    "slideshow": {
     "slide_type": "slide"
    }
   },
   "source": [
    "## Impulse Response Function\n",
    "\n",
    "IRF characterizes the diffusion of an exogenous shock with the dynamic system.\n",
    "\n",
    "$$\n",
    "\\begin{align*}\n",
    "y_t & = (I_m - \\Gamma(L) )^{-1} (\\mu + v_t) \\\\\n",
    "    & = \\bar{y} + \\left( v_t + \\sum_{i=1}^{\\infty} A_i v_{t-i} \\right)\n",
    "\\end{align*}\n",
    "$$ where $\\bar{y}$ is the unconditional mean."
   ]
  },
  {
   "cell_type": "markdown",
   "metadata": {
    "slideshow": {
     "slide_type": "slide"
    }
   },
   "source": [
    "## Variables\n",
    "\n",
    "* `ntis`: net equity expansion\n",
    "* `tbl`: treasury bill rates\n",
    "* `lty`: long-term yield\n",
    "* `Rfree`: risk-free rate"
   ]
  },
  {
   "cell_type": "code",
   "execution_count": null,
   "metadata": {
    "scrolled": true,
    "slideshow": {
     "slide_type": "fragment"
    },
    "vscode": {
     "languageId": "r"
    }
   },
   "outputs": [],
   "source": [
    "d1 <- select(d0, tbl, lty, Rfree, ntis) \n",
    "plot(ts(d1), main = \"\")"
   ]
  },
  {
   "cell_type": "code",
   "execution_count": null,
   "metadata": {
    "slideshow": {
     "slide_type": "slide"
    },
    "vscode": {
     "languageId": "r"
    }
   },
   "outputs": [],
   "source": [
    "## For VAR\n",
    "mod_var <- vars::VAR(d1, p = 2)\n",
    "print(mod_var)"
   ]
  },
  {
   "cell_type": "code",
   "execution_count": null,
   "metadata": {
    "slideshow": {
     "slide_type": "slide"
    },
    "vscode": {
     "languageId": "r"
    }
   },
   "outputs": [],
   "source": [
    "irf_var = vars::irf(mod_var, impulse = \"Rfree\", response = c(\"Rfree\", \"tbl\"), boot = FALSE)\n",
    "# no matter stationary or not, OLS point estimator is always valid\n",
    "print(irf_var)\n",
    "plot(irf_var)"
   ]
  },
  {
   "attachments": {},
   "cell_type": "markdown",
   "metadata": {
    "slideshow": {
     "slide_type": "slide"
    }
   },
   "source": [
    "## Structural VAR\n",
    "\n",
    "* Unrestricted VAR: too many parameters? $m+p\\cdot m^2 + m(m+1)/2$\n",
    "* Use economic theory to reduce the number of unknown parameters"
   ]
  },
  {
   "cell_type": "markdown",
   "metadata": {
    "slideshow": {
     "slide_type": "slide"
    }
   },
   "source": [
    "## VECM Representation\n",
    "\n",
    "Suppose there are $r$ cointegration relationship in $y_t$. For the $m$-equation VAR system \n",
    "\n",
    "$$\n",
    "y_t = \\Gamma y_{t-1} + e_t,\n",
    "$$ \n",
    "\n",
    "we can rewrite it as\n",
    "\n",
    "$$ \n",
    "\\Delta y_t = (\\Gamma - I_m) y_{t-1} + e_t = \\Pi y_{t-1} + e_t.\n",
    "$$"
   ]
  },
  {
   "cell_type": "markdown",
   "metadata": {
    "slideshow": {
     "slide_type": "subslide"
    }
   },
   "source": [
    "* Since LHS is stationary, the $m\\times m$ matrix $\\Pi = \\Gamma - I_m$ on the RHS must only have rank at most $r$. \n",
    "* Otherwise, the RHS will be I(1) and the two sides of the equation are unbalanced."
   ]
  },
  {
   "cell_type": "markdown",
   "metadata": {
    "slideshow": {
     "slide_type": "slide"
    }
   },
   "source": [
    "## Johansen Test\n",
    "\n",
    "\n",
    "* VECM is the base for the cointegration rank test (Johansen, 1992)."
   ]
  },
  {
   "cell_type": "code",
   "execution_count": null,
   "metadata": {
    "slideshow": {
     "slide_type": "fragment"
    },
    "vscode": {
     "languageId": "r"
    }
   },
   "outputs": [],
   "source": [
    "library(urca)\n",
    "wg.vecm = urca::ca.jo(d1, ecdet = \"const\", type=\"eigen\", K=2, spec=\"longrun\")\n",
    "summary(wg.vecm)\n"
   ]
  },
  {
   "cell_type": "code",
   "execution_count": null,
   "metadata": {
    "slideshow": {
     "slide_type": "subslide"
    },
    "vscode": {
     "languageId": "r"
    }
   },
   "outputs": [],
   "source": [
    "vars::vec2var(wg.vecm, r = 2) %>%\n",
    "  vars::irf(impulse = \"Rfree\", response = c(\"Rfree\", \"tbl\"), boot = FALSE) %>% plot()"
   ]
  },
  {
   "cell_type": "markdown",
   "metadata": {
    "slideshow": {
     "slide_type": "skip"
    }
   },
   "source": [
    "### Estimating VECM by OLS"
   ]
  },
  {
   "cell_type": "code",
   "execution_count": null,
   "metadata": {
    "slideshow": {
     "slide_type": "skip"
    },
    "vscode": {
     "languageId": "r"
    }
   },
   "outputs": [],
   "source": [
    "mod_VECM.ols <- urca::cajorls( wg.vecm, r=2 )\n",
    "print(mod_VECM.ols)"
   ]
  },
  {
   "cell_type": "markdown",
   "metadata": {
    "slideshow": {
     "slide_type": "skip"
    }
   },
   "source": [
    "**Additional references**: For more details, see [this blog post](https://www.r-bloggers.com/2021/12/vector-error-correction-model-vecm-using-r/)"
   ]
  },
  {
   "cell_type": "markdown",
   "metadata": {
    "slideshow": {
     "slide_type": "slide"
    }
   },
   "source": [
    "##  Future of Time Series Study\n",
    "\n",
    "* Classical methods\n",
    "* Time series model for discrete choice model\n",
    "* Time series dimension of big data\n",
    "    * Unstructured data\n",
    "    * **Panel data**"
   ]
  }
 ],
 "metadata": {
  "celltoolbar": "Slideshow",
  "kernel_info": {
   "name": "ir"
  },
  "kernelspec": {
   "display_name": "R",
   "language": "R",
   "name": "ir"
  },
  "language_info": {
   "codemirror_mode": "r",
   "file_extension": ".r",
   "mimetype": "text/x-r-source",
   "name": "R",
   "pygments_lexer": "r",
   "version": "4.2.2"
  },
  "nteract": {
   "version": "0.15.0"
  },
  "rise": {
   "enable_chalkboard": true,
   "scroll": true,
   "theme": "serif"
  }
 },
 "nbformat": 4,
 "nbformat_minor": 2
}
