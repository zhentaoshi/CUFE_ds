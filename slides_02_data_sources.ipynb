{
 "cells": [
  {
   "cell_type": "markdown",
   "id": "9276a3ac",
   "metadata": {
    "slideshow": {
     "slide_type": "slide"
    }
   },
   "source": [
    "# Data Sources\n",
    "\n",
    "Zhentao Shi\n",
    "\n",
    "<!-- code is tested on SCRP -->"
   ]
  },
  {
   "cell_type": "markdown",
   "id": "2c33ae13",
   "metadata": {
    "slideshow": {
     "slide_type": "slide"
    }
   },
   "source": [
    "* Online archives\n",
    "* API (Application Programming Interface)\n",
    "* Proprietary data\n",
    "* Survey data"
   ]
  },
  {
   "cell_type": "markdown",
   "id": "b3f9b319",
   "metadata": {
    "slideshow": {
     "slide_type": "slide"
    }
   },
   "source": [
    "## Public data\n",
    "\n",
    "* Time Series\n",
    "  - Natural ordering of observations\n",
    "  - A single realization in history\n",
    "  - eg. GDP, stock prices\n",
    "\n",
    "* Microeconomic data\n",
    "  - No natural ordering\n",
    "  - Collected at the same time, or time does not matter\n",
    "  - [Auction data](https://capcp.la.psu.edu/data-and-software/alaska-oil-and-gas-auction-data/)"
   ]
  },
  {
   "cell_type": "markdown",
   "id": "6f647079",
   "metadata": {
    "slideshow": {
     "slide_type": "subslide"
    }
   },
   "source": [
    "* Aggregate panel data\n",
    "  - [Penn World Table](https://www.rug.nl/ggdc/productivity/pwt/?lang=en)\n",
    "  - [Atlas Trade Data](https://atlas.cid.harvard.edu/about-data)\n",
    "  - [IMF databases](https://data.imf.org/?sk=388DFA60-1D26-4ADE-B505-A05A558D9A42&sId=1479329132316)"
   ]
  },
  {
   "cell_type": "markdown",
   "id": "f039ca56",
   "metadata": {
    "slideshow": {
     "slide_type": "slide"
    }
   },
   "source": [
    "## Gated Data\n",
    "\n",
    "* Applications needed\n",
    "  * Chinese Longitudinal Healthy Longevity Survey [link](https://www.icpsr.umich.edu/web/NACDA/studies/36692)\n",
    "  * China Household Finance Survey [link](https://chfs.swufe.edu.cn/)\n"
   ]
  },
  {
   "cell_type": "code",
   "execution_count": null,
   "id": "ae217cbd",
   "metadata": {
    "slideshow": {
     "slide_type": "slide"
    },
    "vscode": {
     "languageId": "r"
    }
   },
   "outputs": [],
   "source": [
    "library(magrittr)\n",
    "library(dplyr)\n",
    "library(zoo)\n",
    "library(rvest)\n",
    "library(Quandl)\n"
   ]
  },
  {
   "cell_type": "markdown",
   "id": "4d4bbd6b",
   "metadata": {
    "slideshow": {
     "slide_type": "slide"
    }
   },
   "source": [
    "## Time Series\n",
    "\n",
    "- Macroeconomics\n",
    "  - 国家统计局 [National Bureau of Statistics](https://data.stats.gov.cn/easyquery.htm?cn=B01)\n",
    "  - Federal Reserve [FRED database](https://research.stlouisfed.org/econ/mccracken/fred-databases/)\n",
    "- Financial\n",
    "  - [Yahoo Finance](https://finance.yahoo.com/)"
   ]
  },
  {
   "cell_type": "markdown",
   "id": "8bf6b2c4",
   "metadata": {
    "slideshow": {
     "slide_type": "slide"
    }
   },
   "source": [
    "## HK GDP\n",
    "\n",
    "* [Census and Statistics Department](https://www.censtatd.gov.hk/en/web_table.html?id=33#)\n",
    "  * Webpage With API"
   ]
  },
  {
   "cell_type": "code",
   "execution_count": null,
   "id": "f8d373d9",
   "metadata": {
    "slideshow": {
     "slide_type": "fragment"
    },
    "vscode": {
     "languageId": "r"
    }
   },
   "outputs": [],
   "source": [
    "library(httr)\n",
    "library(jsonlite)\n",
    "library(rjson)\n",
    "\n",
    "url <- \"https://www.censtatd.gov.hk/api/get.php?id=33&lang=en&param=N4IgxgbiBcoMJwJqJqAjDEAGHu+4HZ9iScQAaEAfQBcrMsLqAHe6bEAX0oEVUQM7AGJNabDpSqsGXSgHEAIgAUqYAPYBbZmoB2AUx01+AJkwF6kujMnT2GTtxABnKLBbjTlOAHkAcjABtEAAlAEMAdyoAWSoACwBrABMqRKZENUQqNETWAFIqHRAAXUcAGxgaACcAVz1OIA\"\n",
    "download.file(url, destfile=\"input.json\")\n",
    "result <- jsonlite::fromJSON(\"input.json\")\n",
    "\n",
    "data.frame(result$dataSet)"
   ]
  },
  {
   "cell_type": "markdown",
   "id": "abf0bbd4",
   "metadata": {
    "slideshow": {
     "slide_type": "slide"
    }
   },
   "source": [
    "## Federal Reserve\n",
    "\n",
    "* China GDP [[link](https://fred.stlouisfed.org/series/MKTGDPCNA646NWDB)]"
   ]
  },
  {
   "cell_type": "code",
   "execution_count": null,
   "id": "23979204",
   "metadata": {
    "slideshow": {
     "slide_type": "fragment"
    },
    "vscode": {
     "languageId": "r"
    }
   },
   "outputs": [],
   "source": [
    "quantmod::getSymbols.FRED(Symbols = \"MKTGDPCNA646NWDB\", env = .GlobalEnv) \n",
    "plot(MKTGDPCNA646NWDB)"
   ]
  },
  {
   "cell_type": "markdown",
   "id": "cf8a78a8",
   "metadata": {
    "slideshow": {
     "slide_type": "subslide"
    }
   },
   "source": [
    "\n",
    "Another example: [Quarterly US Industrial Production Index](https://fred.stlouisfed.org/series/IPB50001SQ)\n"
   ]
  },
  {
   "cell_type": "code",
   "execution_count": null,
   "id": "b3cc2d07",
   "metadata": {
    "slideshow": {
     "slide_type": "subslide"
    },
    "vscode": {
     "languageId": "r"
    }
   },
   "outputs": [],
   "source": [
    "quantmod::getSymbols.FRED(Symbols = c(\"IPB50001SQ\"), env = .GlobalEnv)\n",
    "plot(IPB50001SQ)"
   ]
  },
  {
   "cell_type": "markdown",
   "id": "ac86698f",
   "metadata": {
    "slideshow": {
     "slide_type": "slide"
    }
   },
   "source": [
    "## Finance Data\n",
    "\n",
    "\n",
    "* [Yahoo Finance](https://finance.yahoo.com/)\n",
    "\n",
    "* Tick `AAPL` for *Apple Inc.* \n",
    "  * Package `quantmod`"
   ]
  },
  {
   "cell_type": "code",
   "execution_count": null,
   "id": "e4a164e0",
   "metadata": {
    "slideshow": {
     "slide_type": "subslide"
    },
    "vscode": {
     "languageId": "r"
    }
   },
   "outputs": [],
   "source": [
    "quantmod::getSymbols(\"AAPL\", src = \"yahoo\")\n",
    "tail(AAPL)\n",
    "plot(AAPL$AAPL.Close)"
   ]
  },
  {
   "cell_type": "markdown",
   "id": "4a40d66c",
   "metadata": {
    "slideshow": {
     "slide_type": "slide"
    }
   },
   "source": [
    "### Shanghai Composite Index"
   ]
  },
  {
   "cell_type": "code",
   "execution_count": null,
   "id": "3471f635",
   "metadata": {
    "slideshow": {
     "slide_type": "fragment"
    },
    "vscode": {
     "languageId": "r"
    }
   },
   "outputs": [],
   "source": [
    "tick = \"000001.SS\" # need to find the tick \n",
    "SH <- quantmod::getSymbols(tick, auto.assign = FALSE, \n",
    "         from = \"2000-01-01\")[, paste0(tick,\".Close\")]\n",
    "\n",
    "plot(SH)"
   ]
  },
  {
   "cell_type": "markdown",
   "id": "f15f1a2d",
   "metadata": {
    "slideshow": {
     "slide_type": "slide"
    }
   },
   "source": [
    "### 000001.SS Return"
   ]
  },
  {
   "cell_type": "code",
   "execution_count": null,
   "id": "ed9b3548",
   "metadata": {
    "slideshow": {
     "slide_type": "fragment"
    },
    "vscode": {
     "languageId": "r"
    }
   },
   "outputs": [],
   "source": [
    "diff(log(SH)) %>% plot()"
   ]
  },
  {
   "cell_type": "markdown",
   "id": "d7678c55",
   "metadata": {
    "slideshow": {
     "slide_type": "slide"
    }
   },
   "source": [
    "### Bank Marketing Data\n",
    "\n",
    "\n",
    "* Direct marketing campaigns of a Portuguese banking institution. \n",
    "\n",
    "\n",
    "* S. Moro, R. Laureano and P. Cortez. Using Data Mining for Bank Direct Marketing: An Application of the CRISP-DM Methodology. In P. Novais et al. (Eds.), Proceedings of the European Simulation and Modelling Conference - ESM'2011, pp. 117-121, Guimarães, Portugal, October, 2011. EUROSIS.\n",
    "\n",
    "\n",
    "*  **Data Import**: `readr::read_delim`"
   ]
  },
  {
   "cell_type": "code",
   "execution_count": null,
   "id": "a0c7a75d",
   "metadata": {
    "slideshow": {
     "slide_type": "slide"
    },
    "vscode": {
     "languageId": "r"
    }
   },
   "outputs": [],
   "source": [
    "library(tidyverse)\n",
    "\n",
    "# `readr` packages has more flexible functions to import data\n",
    "d0 = readr::read_delim(\"data_example/bank-full.csv\", delim = \";\", col_names = TRUE,\n",
    "                       col_types = cols(\n",
    "                         age = \"i\",\n",
    "                         job = \"c\",\n",
    "                         marital = \"f\",\n",
    "                         education = \"f\",\n",
    "                         balance = \"i\",\n",
    "                         )\n",
    "                       )\n",
    "\n",
    "head(d0)\n",
    "colnames(d0)\n"
   ]
  },
  {
   "cell_type": "markdown",
   "id": "8e87a3dd",
   "metadata": {
    "slideshow": {
     "slide_type": "slide"
    }
   },
   "source": [
    "## Data Transformation\n",
    "\n",
    "* `filter`: pick out a subset of rows that satisfy some conditions\n",
    "* `select`: pick out a subset of columns\n",
    "* `arrange`: order rows. Default order from low to high\n",
    "* `mutate`: add columns produced by the existing ones"
   ]
  },
  {
   "cell_type": "code",
   "execution_count": null,
   "id": "b0788290",
   "metadata": {
    "slideshow": {
     "slide_type": "slide"
    },
    "vscode": {
     "languageId": "r"
    }
   },
   "outputs": [],
   "source": [
    "# select columns\n",
    "d1 = select(d0, age:loan)\n",
    "head(d1)"
   ]
  },
  {
   "cell_type": "code",
   "execution_count": null,
   "id": "3ae7bc6d",
   "metadata": {
    "slideshow": {
     "slide_type": "slide"
    },
    "vscode": {
     "languageId": "r"
    }
   },
   "outputs": [],
   "source": [
    "# select a subset by conditions\n",
    "filter(d1, job == \"blue-collar\", age > 50) \n",
    "filter(d1, job == \"blue-collar\", (age > 20 & age <= 30) ) "
   ]
  },
  {
   "cell_type": "code",
   "execution_count": null,
   "id": "0ee6d262",
   "metadata": {
    "slideshow": {
     "slide_type": "slide"
    },
    "vscode": {
     "languageId": "r"
    }
   },
   "outputs": [],
   "source": [
    "# (re)arrange rows\n",
    "arrange(d1, age, education)\n",
    "arrange(d1, desc(age), education)"
   ]
  },
  {
   "cell_type": "code",
   "execution_count": null,
   "id": "89cad3f9",
   "metadata": {
    "slideshow": {
     "slide_type": "slide"
    },
    "vscode": {
     "languageId": "r"
    }
   },
   "outputs": [],
   "source": [
    "# add generated columns (last column)\n",
    "mutate(d1, edu_f = as.numeric(education) )"
   ]
  },
  {
   "cell_type": "code",
   "execution_count": null,
   "id": "adba3dbb",
   "metadata": {
    "vscode": {
     "languageId": "r"
    }
   },
   "outputs": [],
   "source": [
    "transmute(d1, \n",
    "          age = age,\n",
    "          marital = as.numeric(marital), \n",
    "          education = as.numeric(education))"
   ]
  },
  {
   "cell_type": "markdown",
   "id": "a6c60de1",
   "metadata": {
    "slideshow": {
     "slide_type": "slide"
    }
   },
   "source": [
    "## Summarize\n",
    "\n",
    "* `group_by`"
   ]
  },
  {
   "cell_type": "code",
   "execution_count": null,
   "id": "14c3499d",
   "metadata": {
    "slideshow": {
     "slide_type": "fragment"
    },
    "vscode": {
     "languageId": "r"
    }
   },
   "outputs": [],
   "source": [
    "# overall mean balance \n",
    "summarize(d1, mean_b = mean(balance))"
   ]
  },
  {
   "cell_type": "code",
   "execution_count": null,
   "id": "f6b32330",
   "metadata": {
    "slideshow": {
     "slide_type": "fragment"
    },
    "vscode": {
     "languageId": "r"
    }
   },
   "outputs": [],
   "source": [
    "# mean balance by groups\n",
    "group_by(d1, education) %>%\n",
    "  summarize( mean_b = mean(balance))"
   ]
  },
  {
   "cell_type": "code",
   "execution_count": null,
   "id": "629c37c4",
   "metadata": {
    "slideshow": {
     "slide_type": "slide"
    },
    "vscode": {
     "languageId": "r"
    }
   },
   "outputs": [],
   "source": [
    "d1 %>%\n",
    "  group_by(education, marital) %>%\n",
    "  summarize( mean_b = mean(balance),\n",
    "             sd_b = sd(balance),\n",
    "             count = n())"
   ]
  },
  {
   "attachments": {},
   "cell_type": "markdown",
   "id": "6e990acf",
   "metadata": {
    "slideshow": {
     "slide_type": "slide"
    }
   },
   "source": [
    "## Data Scrapping\n",
    "\n",
    "* [Liangjia Shenzhen data](https://github.com/zhentaoshi/econ_data_science/blob/master/data_example/Scrape_Lianjia.ipynb) (by Wang Yishu)"
   ]
  }
 ],
 "metadata": {
  "celltoolbar": "Slideshow",
  "kernelspec": {
   "display_name": "R",
   "language": "R",
   "name": "ir"
  },
  "language_info": {
   "codemirror_mode": "r",
   "file_extension": ".r",
   "mimetype": "text/x-r-source",
   "name": "R",
   "pygments_lexer": "r",
   "version": "4.2.2"
  },
  "rise": {
   "enable_chalkboard": true,
   "scroll": true,
   "theme": "serif"
  }
 },
 "nbformat": 4,
 "nbformat_minor": 5
}
